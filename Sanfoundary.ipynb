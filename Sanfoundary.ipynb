{
  "nbformat": 4,
  "nbformat_minor": 0,
  "metadata": {
    "colab": {
      "provenance": [],
      "authorship_tag": "ABX9TyNxknme84SrK3RJkx/gpVdY",
      "include_colab_link": true
    },
    "kernelspec": {
      "name": "python3",
      "display_name": "Python 3"
    },
    "language_info": {
      "name": "python"
    }
  },
  "cells": [
    {
      "cell_type": "markdown",
      "metadata": {
        "id": "view-in-github",
        "colab_type": "text"
      },
      "source": [
        "<a href=\"https://colab.research.google.com/github/mdnehalsalik/PythonCodes/blob/main/Sanfoundary.ipynb\" target=\"_parent\"><img src=\"https://colab.research.google.com/assets/colab-badge.svg\" alt=\"Open In Colab\"/></a>"
      ]
    },
    {
      "cell_type": "markdown",
      "source": [
        "## File Handling in Python \n",
        "### - For details refer the notability notes in the ipad. \n",
        "##### find the relevant reference articles below.\n",
        "https://www.freecodecamp.org/news/how-to-read-files-in-python/\n",
        "\n",
        "https://www.w3schools.com/python/python_file_open.asp\n",
        "\n",
        "https://www.pythontutorial.net/python-basics/python-read-text-file/"
      ],
      "metadata": {
        "id": "YrxCUAsilL9D"
      }
    },
    {
      "cell_type": "code",
      "execution_count": null,
      "metadata": {
        "colab": {
          "base_uri": "https://localhost:8080/"
        },
        "id": "naZZApcI4zX5",
        "outputId": "076ea9dc-fc2e-4542-d823-253f8bcee161"
      },
      "outputs": [
        {
          "output_type": "stream",
          "name": "stdout",
          "text": [
            "Enter the file name: test1.txt\n",
            "Python is a programming language that was developed in 1991,\n",
            "\n",
            "it has grown in popularity over the last decade.\n",
            "\n",
            "Python developers are among the most in-demand in the tech world today.\n",
            "\n",
            "The Python programming language is a general-purpose option, \n",
            "\n",
            "meaning it can be used to create almost any type of computer program, including websites.\n",
            "\n",
            "It’s surprisingly easy to learn, yet still powerful enough for some of the most advanced applications out there, making it a programming language that benefits any developer.\n",
            "\n",
            "If you want to learn how to build a website with Python, you’ll need to have a good grasp of this language as well as a good understanding of how websites work. This page is a high-level introduction to how to build a website with Python to help you get started.\n"
          ]
        }
      ],
      "source": [
        "a = str(input(\"Enter the file name: \"))\n",
        "file = open(a,'r')\n",
        "line = file.readline()\n",
        "while (line!=\"\"):\n",
        "  print(line)\n",
        "  line = file.readline()\n",
        "file.close()"
      ]
    },
    {
      "cell_type": "code",
      "source": [
        "# use the rstrip to delete the empty line after each line.\n",
        "a = str(input(\"Enter the file name: \"))\n",
        "file = open(a,'r')\n",
        "line = file.readline()\n",
        "while (line!=\"\"):\n",
        "  print(line.rstrip())\n",
        "  line = file.readline()\n",
        "file.close()"
      ],
      "metadata": {
        "colab": {
          "base_uri": "https://localhost:8080/"
        },
        "id": "IGufAm9Ai_4T",
        "outputId": "db75d661-d3ea-4595-e196-3ac4206e4cd5"
      },
      "execution_count": null,
      "outputs": [
        {
          "output_type": "stream",
          "name": "stdout",
          "text": [
            "Enter the file name: test1.txt\n",
            "Python is a programming language that was developed in 1991,\n",
            "it has grown in popularity over the last decade.\n",
            "Python developers are among the most in-demand in the tech world today.\n",
            "The Python programming language is a general-purpose option,\n",
            "meaning it can be used to create almost any type of computer program, including websites.\n",
            "It’s surprisingly easy to learn, yet still powerful enough for some of the most advanced applications out there, making it a programming language that benefits any developer.\n",
            "If you want to learn how to build a website with Python, you’ll need to have a good grasp of this language as well as a good understanding of how websites work. This page is a high-level introduction to how to build a website with Python to help you get started.\n"
          ]
        }
      ]
    },
    {
      "cell_type": "markdown",
      "source": [
        "### Write the content of one file to the end of other file."
      ],
      "metadata": {
        "id": "fbcz8b86lyUj"
      }
    },
    {
      "cell_type": "code",
      "source": [
        "with open('test1.txt', 'r') as f1:\n",
        "  with open(\"test2.txt\", 'w') as f2:\n",
        "    for line in f1:\n",
        "      f2.write(line)\n",
        "for line in open('test2.txt'):\n",
        "  print(line.rstrip())"
      ],
      "metadata": {
        "colab": {
          "base_uri": "https://localhost:8080/"
        },
        "id": "KwtIn-BMl89W",
        "outputId": "3b0029a2-651f-4171-b11a-8287ffe13862"
      },
      "execution_count": null,
      "outputs": [
        {
          "output_type": "stream",
          "name": "stdout",
          "text": [
            "Python is a programming language that was developed in 1991,\n",
            "it has grown in popularity over the last decade.\n",
            "Python developers are among the most in-demand in the tech world today.\n",
            "The Python programming language is a general-purpose option,\n",
            "meaning it can be used to create almost any type of computer program, including websites.\n",
            "It’s surprisingly easy to learn, yet still powerful enough for some of the most advanced applications out there, making it a programming language that benefits any developer.\n",
            "If you want to learn how to build a website with Python, you’ll need to have a good grasp of this language as well as a good understanding of how websites work. This page is a high-level introduction to how to build a website with Python to help you get started.\n"
          ]
        }
      ]
    },
    {
      "cell_type": "code",
      "source": [
        "# Basicaly in simple words we need to create the file handler in Python to handle the opening and closing of the file.\n",
        "fhand = open('test1.txt')\n",
        "for line in fhand:\n",
        "  line = line.rstrip()\n",
        "  print(line)"
      ],
      "metadata": {
        "colab": {
          "base_uri": "https://localhost:8080/"
        },
        "id": "AU3idYxvRsdG",
        "outputId": "aeff00d9-8f16-453d-d3bd-d462e61c4e82"
      },
      "execution_count": null,
      "outputs": [
        {
          "output_type": "stream",
          "name": "stdout",
          "text": [
            "Python is a programming language that was developed in 1991,\n",
            "it has grown in popularity over the last decade.\n",
            "Python developers are among the most in-demand in the tech world today.\n",
            "The Python programming language is a general-purpose option,\n",
            "meaning it can be used to create almost any type of computer program, including websites.\n",
            "It’s surprisingly easy to learn, yet still powerful enough for some of the most advanced applications out there, making it a programming language that benefits any developer.\n",
            "If you want to learn how to build a website with Python, you’ll need to have a good grasp of this language as well as a good understanding of how websites work. This page is a high-level introduction to how to build a website with Python to help you get started.\n"
          ]
        }
      ]
    },
    {
      "cell_type": "code",
      "source": [
        "s = '3 4\\t  3\\n 5'\n",
        "print(s)"
      ],
      "metadata": {
        "colab": {
          "base_uri": "https://localhost:8080/"
        },
        "id": "YeFl9UtMVVIP",
        "outputId": "ef92fe53-d3fe-4efd-f641-5446a4ce89b5"
      },
      "execution_count": null,
      "outputs": [
        {
          "output_type": "stream",
          "name": "stdout",
          "text": [
            "3 4\t  3\n",
            " 5\n"
          ]
        }
      ]
    },
    {
      "cell_type": "code",
      "source": [
        "# The repr method prints the representatin of the output\n",
        "print(repr(s))"
      ],
      "metadata": {
        "colab": {
          "base_uri": "https://localhost:8080/"
        },
        "id": "r4nn3nEVVrFE",
        "outputId": "0fa0f5d5-d124-4351-e34a-09c7fc74cd7b"
      },
      "execution_count": null,
      "outputs": [
        {
          "output_type": "stream",
          "name": "stdout",
          "text": [
            "'3 4\\t  3\\n 5'\n"
          ]
        }
      ]
    },
    {
      "cell_type": "code",
      "source": [
        "fhand = open('test1.txt')\n",
        "for line in fhand:\n",
        "  print(repr(line))"
      ],
      "metadata": {
        "colab": {
          "base_uri": "https://localhost:8080/"
        },
        "id": "0mlnjREsWG0s",
        "outputId": "7066547a-4835-447c-e493-0b678055e7b4"
      },
      "execution_count": null,
      "outputs": [
        {
          "output_type": "stream",
          "name": "stdout",
          "text": [
            "'Python is a programming language that was developed in 1991,\\n'\n",
            "'it has grown in popularity over the last decade.\\n'\n",
            "'Python developers are among the most in-demand in the tech world today.\\n'\n",
            "'The Python programming language is a general-purpose option, \\n'\n",
            "'meaning it can be used to create almost any type of computer program, including websites.\\n'\n",
            "'It’s surprisingly easy to learn, yet still powerful enough for some of the most advanced applications out there, making it a programming language that benefits any developer.\\n'\n",
            "'If you want to learn how to build a website with Python, you’ll need to have a good grasp of this language as well as a good understanding of how websites work. This page is a high-level introduction to how to build a website with Python to help you get started.'\n"
          ]
        }
      ]
    },
    {
      "cell_type": "code",
      "source": [
        "filename  = str(input(\"Enter File Name: \"))\n",
        "filehand = open(filename, 'r')\n",
        "for line in filehand:\n",
        "  line = line.rstrip()\n",
        "  print(line)"
      ],
      "metadata": {
        "colab": {
          "base_uri": "https://localhost:8080/"
        },
        "id": "5tag0oHeWaFx",
        "outputId": "d4b60318-1c7d-4193-a2ec-0232b697c411"
      },
      "execution_count": null,
      "outputs": [
        {
          "output_type": "stream",
          "name": "stdout",
          "text": [
            "Enter File Name: test1.txt\n",
            "Python is a programming language that was developed in 1991,\n",
            "it has grown in popularity over the last decade.\n",
            "Python developers are among the most in-demand in the tech world today.\n",
            "The Python programming language is a general-purpose option,\n",
            "meaning it can be used to create almost any type of computer program, including websites.\n",
            "It’s surprisingly easy to learn, yet still powerful enough for some of the most advanced applications out there, making it a programming language that benefits any developer.\n",
            "If you want to learn how to build a website with Python, you’ll need to have a good grasp of this language as well as a good understanding of how websites work. This page is a high-level introduction to how to build a website with Python to help you get started.\n"
          ]
        }
      ]
    },
    {
      "cell_type": "code",
      "source": [
        "# Write a function to print the no of lines in a file\n",
        "def read_no_line(filename):\n",
        "  filehand = open(filename,'r')\n",
        "  for line in filehand:\n",
        "    line = line.rstrip()\n",
        "    print(line)"
      ],
      "metadata": {
        "id": "k7wf4eBtY_X7"
      },
      "execution_count": null,
      "outputs": []
    },
    {
      "cell_type": "code",
      "source": [
        "read_no_line('test2.txt')"
      ],
      "metadata": {
        "colab": {
          "base_uri": "https://localhost:8080/"
        },
        "id": "IMDvKhlSZ6sh",
        "outputId": "ab265ac9-3f55-4116-ce14-5b7d8f336e6d"
      },
      "execution_count": null,
      "outputs": [
        {
          "output_type": "stream",
          "name": "stdout",
          "text": [
            "Python is a programming language that was developed in 1991,\n",
            "it has grown in popularity over the last decade.\n",
            "Python developers are among the most in-demand in the tech world today.\n",
            "The Python programming language is a general-purpose option,\n",
            "meaning it can be used to create almost any type of computer program, including websites.\n",
            "It’s surprisingly easy to learn, yet still powerful enough for some of the most advanced applications out there, making it a programming language that benefits any developer.\n",
            "If you want to learn how to build a website with Python, you’ll need to have a good grasp of this language as well as a good understanding of how websites work. This page is a high-level introduction to how to build a website with Python to help you get started.\n"
          ]
        }
      ]
    },
    {
      "cell_type": "code",
      "source": [
        "file = input(\"Enter the file name: \")\n",
        "filehand = open(file, 'r')\n",
        "count = 0 \n",
        "for line in filehand:\n",
        "  count = count+1\n",
        "print(count)"
      ],
      "metadata": {
        "colab": {
          "base_uri": "https://localhost:8080/"
        },
        "id": "OFoQRc4lpDxO",
        "outputId": "af84bb7c-7934-4852-f73f-461be8d67ffe"
      },
      "execution_count": null,
      "outputs": [
        {
          "output_type": "stream",
          "name": "stdout",
          "text": [
            "Enter the file name: test1.txt\n",
            "7\n"
          ]
        }
      ]
    },
    {
      "cell_type": "code",
      "source": [
        "# Write a function to count the no of lines in a file\n",
        "def count_no_line(file):\n",
        "  filehand = open(file,'r')\n",
        "  count = 0\n",
        "  for line in filehand:\n",
        "    count +=1\n",
        "  return count\n"
      ],
      "metadata": {
        "id": "-8k7cYDdpboo"
      },
      "execution_count": null,
      "outputs": []
    },
    {
      "cell_type": "code",
      "source": [
        "count_no_line('test2.txt')"
      ],
      "metadata": {
        "colab": {
          "base_uri": "https://localhost:8080/"
        },
        "id": "7qv8UUHarU-R",
        "outputId": "fa334d8d-4299-44bc-ee33-b19390d3d1eb"
      },
      "execution_count": null,
      "outputs": [
        {
          "output_type": "execute_result",
          "data": {
            "text/plain": [
              "7"
            ]
          },
          "metadata": {},
          "execution_count": 34
        }
      ]
    },
    {
      "cell_type": "markdown",
      "source": [
        "## How to Write a file in Python\n",
        "\n",
        "By default the file handler opens the file in the read mode, however we can write to a file, if we open the file with any of the following modes:\n",
        "\n",
        "\n",
        "\n",
        "*   w - Writes to an existing file, but erases existing content\n",
        "*   a - Append to an existing file\n",
        "*   x - creates a file and return an error, if the file exists\n",
        "\n",
        "\n",
        "\n",
        "\n",
        "\n"
      ],
      "metadata": {
        "id": "1YIbOHbFr6-v"
      }
    },
    {
      "cell_type": "code",
      "source": [
        "# open the file with the mode 'w'\n",
        "\n",
        "with open('test2.txt', 'w') as f:\n",
        "  f.write('This content should be written and everything should go')\n",
        "  f.close()\n",
        "for line in open('test2.txt'):\n",
        "  print(line)"
      ],
      "metadata": {
        "colab": {
          "base_uri": "https://localhost:8080/"
        },
        "id": "O5HIRZjZstgd",
        "outputId": "a3b1f630-3c31-4d90-b607-425bdd512eb0"
      },
      "execution_count": null,
      "outputs": [
        {
          "output_type": "stream",
          "name": "stdout",
          "text": [
            "This content should be written and everything should go\n"
          ]
        }
      ]
    },
    {
      "cell_type": "code",
      "source": [
        "# open the file with mode 'a'\n",
        "\n",
        "with open('test2.txt', 'a') as f:\n",
        "  f.write(\"\\nThis content shoudl be appended in the end\")\n",
        "  f.close()\n",
        "\n",
        "for line in open('test2.txt'):\n",
        "  print(line)\n"
      ],
      "metadata": {
        "colab": {
          "base_uri": "https://localhost:8080/"
        },
        "id": "Zyiai0pqtJmC",
        "outputId": "aa673d55-ed0b-466f-9780-9e5429901670"
      },
      "execution_count": null,
      "outputs": [
        {
          "output_type": "stream",
          "name": "stdout",
          "text": [
            "This content should be written and everything should go\n",
            "\n",
            "This content shoudl be appended in the end\n"
          ]
        }
      ]
    },
    {
      "cell_type": "code",
      "source": [
        "# Open a file with mode 'x'\n",
        "filehand = open('newfile', 'x')\n",
        "filehand.write('Now the new file also has some content')\n",
        "filehand.close()\n",
        "\n",
        "for line in open('newfile'):\n",
        "  print(line)"
      ],
      "metadata": {
        "colab": {
          "base_uri": "https://localhost:8080/"
        },
        "id": "hmTFznj6uOkx",
        "outputId": "4d334971-55c2-4c6e-b0ef-4a2eff1779a9"
      },
      "execution_count": null,
      "outputs": [
        {
          "output_type": "stream",
          "name": "stdout",
          "text": [
            "Now the new file also has some content\n"
          ]
        }
      ]
    },
    {
      "cell_type": "code",
      "source": [
        "# If the file already exist, we will get an exception like below\n",
        "filehand = open('newfile', 'x')\n",
        "filehand.write('Now the new file also has some content')\n",
        "filehand.close()\n",
        "\n",
        "for line in open('newfile'):\n",
        "  print(line)"
      ],
      "metadata": {
        "colab": {
          "base_uri": "https://localhost:8080/",
          "height": 235
        },
        "id": "D4jVCOZ8urds",
        "outputId": "7860a384-8618-47a1-850c-5f1073f58107"
      },
      "execution_count": null,
      "outputs": [
        {
          "output_type": "error",
          "ename": "FileExistsError",
          "evalue": "ignored",
          "traceback": [
            "\u001b[0;31m---------------------------------------------------------------------------\u001b[0m",
            "\u001b[0;31mFileExistsError\u001b[0m                           Traceback (most recent call last)",
            "\u001b[0;32m<ipython-input-53-283de1f60d6e>\u001b[0m in \u001b[0;36m<module>\u001b[0;34m\u001b[0m\n\u001b[1;32m      1\u001b[0m \u001b[0;31m# If the file already exist, we will get an exception like below\u001b[0m\u001b[0;34m\u001b[0m\u001b[0;34m\u001b[0m\u001b[0;34m\u001b[0m\u001b[0m\n\u001b[0;32m----> 2\u001b[0;31m \u001b[0mfilehand\u001b[0m \u001b[0;34m=\u001b[0m \u001b[0mopen\u001b[0m\u001b[0;34m(\u001b[0m\u001b[0;34m'newfile'\u001b[0m\u001b[0;34m,\u001b[0m \u001b[0;34m'x'\u001b[0m\u001b[0;34m)\u001b[0m\u001b[0;34m\u001b[0m\u001b[0;34m\u001b[0m\u001b[0m\n\u001b[0m\u001b[1;32m      3\u001b[0m \u001b[0mfilehand\u001b[0m\u001b[0;34m.\u001b[0m\u001b[0mwrite\u001b[0m\u001b[0;34m(\u001b[0m\u001b[0;34m'Now the new file also has some content'\u001b[0m\u001b[0;34m)\u001b[0m\u001b[0;34m\u001b[0m\u001b[0;34m\u001b[0m\u001b[0m\n\u001b[1;32m      4\u001b[0m \u001b[0mfilehand\u001b[0m\u001b[0;34m.\u001b[0m\u001b[0mclose\u001b[0m\u001b[0;34m(\u001b[0m\u001b[0;34m)\u001b[0m\u001b[0;34m\u001b[0m\u001b[0;34m\u001b[0m\u001b[0m\n\u001b[1;32m      5\u001b[0m \u001b[0;34m\u001b[0m\u001b[0m\n",
            "\u001b[0;31mFileExistsError\u001b[0m: [Errno 17] File exists: 'newfile'"
          ]
        }
      ]
    },
    {
      "cell_type": "code",
      "source": [
        "# Exception Handling\n",
        "fname = input(\"Enter the file name: \")\n",
        "try:\n",
        "  fhand = open(fname)\n",
        "except:\n",
        "  print('File not found and cant be opened:', fname)\n",
        "  exit()\n",
        "count = 0\n",
        "for line in fhand:\n",
        "  count = count + 1\n",
        "print(\"There are\", count, 'lines in ', fname)"
      ],
      "metadata": {
        "colab": {
          "base_uri": "https://localhost:8080/",
          "height": 269
        },
        "id": "2SuPJvc8uzrZ",
        "outputId": "d83c4436-1f18-4a2d-cabb-faa5bbb8cdeb"
      },
      "execution_count": null,
      "outputs": [
        {
          "output_type": "stream",
          "name": "stdout",
          "text": [
            "Enter the file name: hjghjg\\\n",
            "File not found and cant be opened: hjghjg\\\n"
          ]
        },
        {
          "output_type": "error",
          "ename": "NameError",
          "evalue": "ignored",
          "traceback": [
            "\u001b[0;31m---------------------------------------------------------------------------\u001b[0m",
            "\u001b[0;31mNameError\u001b[0m                                 Traceback (most recent call last)",
            "\u001b[0;32m<ipython-input-1-e39d98035650>\u001b[0m in \u001b[0;36m<module>\u001b[0;34m\u001b[0m\n\u001b[1;32m      7\u001b[0m   \u001b[0mexit\u001b[0m\u001b[0;34m(\u001b[0m\u001b[0;34m)\u001b[0m\u001b[0;34m\u001b[0m\u001b[0;34m\u001b[0m\u001b[0m\n\u001b[1;32m      8\u001b[0m \u001b[0mcount\u001b[0m \u001b[0;34m=\u001b[0m \u001b[0;36m0\u001b[0m\u001b[0;34m\u001b[0m\u001b[0;34m\u001b[0m\u001b[0m\n\u001b[0;32m----> 9\u001b[0;31m \u001b[0;32mfor\u001b[0m \u001b[0mline\u001b[0m \u001b[0;32min\u001b[0m \u001b[0mfhand\u001b[0m\u001b[0;34m:\u001b[0m\u001b[0;34m\u001b[0m\u001b[0;34m\u001b[0m\u001b[0m\n\u001b[0m\u001b[1;32m     10\u001b[0m   \u001b[0mcount\u001b[0m \u001b[0;34m=\u001b[0m \u001b[0mcount\u001b[0m \u001b[0;34m+\u001b[0m \u001b[0;36m1\u001b[0m\u001b[0;34m\u001b[0m\u001b[0;34m\u001b[0m\u001b[0m\n\u001b[1;32m     11\u001b[0m \u001b[0mprint\u001b[0m\u001b[0;34m(\u001b[0m\u001b[0;34m\"There are\"\u001b[0m\u001b[0;34m,\u001b[0m \u001b[0mcount\u001b[0m\u001b[0;34m,\u001b[0m \u001b[0;34m'lines in '\u001b[0m\u001b[0;34m,\u001b[0m \u001b[0mfname\u001b[0m\u001b[0;34m)\u001b[0m\u001b[0;34m\u001b[0m\u001b[0;34m\u001b[0m\u001b[0m\n",
            "\u001b[0;31mNameError\u001b[0m: name 'fhand' is not defined"
          ]
        }
      ]
    },
    {
      "cell_type": "markdown",
      "source": [
        "## Ways to read the text file \n",
        "\n",
        "There are three methods to read the file object in the python.\n",
        "\n",
        "\n",
        "1.   read(size) – read some contents of a file based on the optional size and return the contents as a string. If you omit the size, the read() method reads from where it left off till the end of the file. If the end of a file has been reached, the read() method returns an empty string.\n",
        "\n",
        "2.   readline() – read a single line from a text file and return the line as a string. If the end of a file has been reached, the readline() returns an empty string.\n",
        "3.   readlines() – read all the lines of the text file into a list of strings. This method is useful if you have a small file and you want to manipulate the whole text of that file.\n",
        "\n",
        "\n",
        "\n",
        "\n"
      ],
      "metadata": {
        "id": "IXxkkv0xEgNq"
      }
    },
    {
      "cell_type": "code",
      "source": [
        "with open('test1.txt') as f:\n",
        "  [print(line.rstrip()) for line in f.readlines()]"
      ],
      "metadata": {
        "colab": {
          "base_uri": "https://localhost:8080/"
        },
        "id": "a4v8oZrOFKHU",
        "outputId": "d0a15453-446f-4933-fcf0-e40a56d18156"
      },
      "execution_count": null,
      "outputs": [
        {
          "output_type": "stream",
          "name": "stdout",
          "text": [
            "Python is a programming language that was developed in 1991,\n",
            "it has grown in popularity over the last decade.\n",
            "Python developers are among the most in-demand in the tech world today.\n",
            "The Python programming language is a general-purpose option,\n",
            "meaning it can be used to create almost any type of computer program, including websites.\n",
            "It’s surprisingly easy to learn, yet still powerful enough for some of the most advanced applications out there, making it a programming language that benefits any developer.\n",
            "\n",
            "If you want to learn how to build a website with Python, you’ll need to have a good grasp of this language as well as a good understanding of how websites work. This page is a high-level introduction to how to build a website with Python to help you get started.\n"
          ]
        }
      ]
    },
    {
      "cell_type": "code",
      "source": [
        "## Python program to count the number of blank Spaces in a text file.\n",
        "# fname = input(\"Enter the file name: \")\n",
        "fname = 'test1.txt'\n",
        "k = 0\n",
        "\n",
        "with open(fname, 'r') as f:\n",
        "  for line in f:\n",
        "    words = line.split()\n",
        "    print(words)\n",
        "    for i in words:\n",
        "      for letter in i:\n",
        "        if (letter.isspace):\n",
        "          k = k+1\n",
        "print(\"Occuerences of blank spaces: \")\n",
        "print(k)"
      ],
      "metadata": {
        "colab": {
          "base_uri": "https://localhost:8080/"
        },
        "id": "ag-XCY7wzB_f",
        "outputId": "11ad64dd-cc7c-4cc1-a50e-a9912306c81a"
      },
      "execution_count": null,
      "outputs": [
        {
          "output_type": "stream",
          "name": "stdout",
          "text": [
            "['Pythonisaprogramming', 'language', 'that', 'was', 'developed', 'in', '1991.']\n",
            "['it', 'has', 'grown', 'in', 'popularity', 'over', 'the', 'last', 'decade.']\n",
            "['Python', 'developers', 'are', 'among', 'the', 'most', 'in-demand', 'in', 'the', 'tech', 'world', 'today.']\n",
            "['The', 'Python', 'programming', 'language', 'is', 'a', 'general-purpose', 'option,']\n",
            "['meaning', 'it', 'can', 'be', 'used', 'to', 'create', 'almost', 'any', 'type', 'of', 'computer', 'program,', 'including', 'websites.']\n",
            "['It’s', 'surprisingly', 'easy', 'to', 'learn,', 'yet', 'still', 'powerful', 'enough', 'for', 'some', 'of', 'the', 'most', 'advanced', 'applications', 'out', 'there,', 'making', 'it', 'a', 'programming', 'language', 'that', 'benefits', 'any', 'developer.']\n",
            "['If', 'you', 'want', 'to', 'learn', 'how', 'to', 'build', 'a', 'website', 'with', 'Python,', 'you’ll', 'need', 'to', 'have', 'a', 'good', 'grasp', 'of', 'this', 'language', 'as', 'well', 'as', 'a', 'good', 'understanding', 'of', 'how', 'websites', 'work.', 'This', 'page', 'is', 'a', 'high-level', 'introduction', 'to', 'how', 'to', 'build', 'a', 'website', 'with', 'Python', 'to', 'help', 'you', 'get', 'started.']\n",
            "Occuerences of blank spaces: \n",
            "639\n"
          ]
        }
      ]
    },
    {
      "cell_type": "code",
      "source": [
        "a = 'Ram is a good  boy\\n'\n",
        "for words in a.split():\n",
        "  print(words)\n",
        "  for letter in words:\n",
        "    if(letter.isspace()):\n",
        "      print(True)\n",
        "    else:\n",
        "      print(False)"
      ],
      "metadata": {
        "id": "lL0CzPO41zDZ"
      },
      "execution_count": null,
      "outputs": []
    },
    {
      "cell_type": "code",
      "source": [
        "## Python Program to Count the Occurrences of a Word in a Text File\n",
        "file_name = input(\"Enter file name: \")\n",
        "word_name = input(\"Enter the word name: \")\n",
        "count = 0\n",
        "with open(file_name, 'r') as f:\n",
        "  for line in f:\n",
        "    word_vec = line.split()\n",
        "    for word in word_vec:\n",
        "      if word == word_name:\n",
        "        count+=1\n",
        "print(count)\n",
        "\n"
      ],
      "metadata": {
        "colab": {
          "base_uri": "https://localhost:8080/"
        },
        "id": "BTA-ENTi5DZg",
        "outputId": "05f4db03-684e-413c-a872-545bb7a46531"
      },
      "execution_count": null,
      "outputs": [
        {
          "output_type": "stream",
          "name": "stdout",
          "text": [
            "Enter file name: test1.txt\n",
            "Enter the word name: Python\n",
            "3\n"
          ]
        }
      ]
    },
    {
      "cell_type": "code",
      "source": [
        "## Python Program to Count the Number of Words in a Text File\n",
        "f_name = input(\"Enter the file name: \")\n",
        "count = 0\n",
        "\n",
        "with open(file_name , 'r') as f:\n",
        "  for lines in f:\n",
        "    word_vector = f.readline()\n",
        "    # for word in word_vector:\n",
        "      # count+=1\n",
        "    count +=len(word_vector)\n",
        "print(\"The no of words in the file is: \", count)\n",
        "\n",
        "\n"
      ],
      "metadata": {
        "colab": {
          "base_uri": "https://localhost:8080/"
        },
        "id": "qVBCYuC5BmJz",
        "outputId": "7190d5a7-88e2-41b8-89ad-b2219530b46d"
      },
      "execution_count": null,
      "outputs": [
        {
          "output_type": "stream",
          "name": "stdout",
          "text": [
            "Enter the file name: test1.txt\n",
            "The no of words in the file is:  286\n"
          ]
        }
      ]
    },
    {
      "cell_type": "code",
      "source": [
        "## Python program to capitalize the first letter of each word in a file.\n",
        "f_name = input(\"Enter file name: \")\n",
        "\n",
        "with open(f_name, 'r') as f:\n",
        "  with open('test2.txt', 'x') as f1:\n",
        "    for line in f:\n",
        "      l = line.title()\n",
        "      f1.write(l)\n",
        "\n",
        "\n",
        "    \n",
        "    \n"
      ],
      "metadata": {
        "colab": {
          "base_uri": "https://localhost:8080/"
        },
        "id": "RNQYMdJHM3DT",
        "outputId": "12b6f3ba-7b2b-45a9-f32c-dd0767e93e26"
      },
      "execution_count": null,
      "outputs": [
        {
          "name": "stdout",
          "output_type": "stream",
          "text": [
            "Enter file name: test1.txt\n"
          ]
        }
      ]
    },
    {
      "cell_type": "code",
      "source": [
        "[print(line.rstrip()) for line in open('test2.txt').readlines()]"
      ],
      "metadata": {
        "colab": {
          "base_uri": "https://localhost:8080/"
        },
        "id": "u6hgp75FQP3d",
        "outputId": "56b3ad5a-7749-49d1-9a48-3762b01be4b9"
      },
      "execution_count": null,
      "outputs": [
        {
          "output_type": "stream",
          "name": "stdout",
          "text": [
            "Python Is Aprogramming Language That Was Developed In 1991.\n",
            "It Has Grown In Popularity Over The Last Decade.\n",
            "Python Developers Are Among The Most In-Demand In The Tech World Today.\n",
            "The Python Programming Language Is A General-Purpose Option,\n",
            "Meaning It Can Be Used To Create Almost Any Type Of Computer Program, Including Websites.\n",
            "It’S Surprisingly Easy To Learn, Yet Still Powerful Enough For Some Of The Most Advanced Applications Out There, Making It A Programming Language That Benefits Any Developer.\n",
            "If You Want To Learn How To Build A Website With Python, You’Ll Need To Have A Good Grasp Of This Language As Well As A Good Understanding Of How Websites Work. This Page Is A High-Level Introduction To How To Build A Website With Python To Help You Get Started.\n"
          ]
        },
        {
          "output_type": "execute_result",
          "data": {
            "text/plain": [
              "[None, None, None, None, None, None, None]"
            ]
          },
          "metadata": {},
          "execution_count": 42
        }
      ]
    },
    {
      "cell_type": "code",
      "source": [
        "## Python program to count the no of times a letter appears in a text file.\n",
        "letter = input(\"Enter the substring: \")\n",
        "count = 0\n",
        "with open('test1.txt', 'r') as f:\n",
        "  # content = f.readlines()\n",
        "  # for i in content:\n",
        "  #   count += i.count(letter)\n",
        "  # print(count)\n",
        "  content = f.read()\n",
        "  count = content.count(letter)\n",
        "  print(count)\n",
        "\n",
        "\n",
        "\n"
      ],
      "metadata": {
        "colab": {
          "base_uri": "https://localhost:8080/"
        },
        "id": "x_CIQp9XRg8z",
        "outputId": "44ebe2cf-996b-4e56-8f93-dc17a9a6f71f"
      },
      "execution_count": null,
      "outputs": [
        {
          "output_type": "stream",
          "name": "stdout",
          "text": [
            "p\n",
            "21\n"
          ]
        }
      ]
    },
    {
      "cell_type": "code",
      "source": [
        "## Python program to print all the numbers present in a text file \n",
        "\n",
        "fname = input(\"Enter the file name: \")\n",
        "with open(fname, 'r') as f:\n",
        "  for line in f:\n",
        "    word_vec = line.split()\n",
        "    for word in word_vec:\n",
        "      for letter in word:\n",
        "        if(letter.isdigit()):\n",
        "          print(letter)"
      ],
      "metadata": {
        "colab": {
          "base_uri": "https://localhost:8080/"
        },
        "id": "SVmjZuHnX5eE",
        "outputId": "135eab66-44b2-42a4-9fd9-7183b5517e51"
      },
      "execution_count": null,
      "outputs": [
        {
          "output_type": "stream",
          "name": "stdout",
          "text": [
            "Enter the file name: test1.txt\n",
            "1\n",
            "9\n",
            "9\n",
            "1\n"
          ]
        }
      ]
    },
    {
      "cell_type": "code",
      "source": [
        "## Python program to print the contents of File in reverse prder\n",
        "\n",
        "with open('test1.txt', 'r') as f:\n",
        "  content = f.readlines()\n",
        "  for line in reversed(content):\n",
        "    print(line.rstrip())\n"
      ],
      "metadata": {
        "colab": {
          "base_uri": "https://localhost:8080/"
        },
        "id": "I0lhqtAfZqc-",
        "outputId": "8b4db9ff-aa43-4c23-bc02-6ea8a86105ce"
      },
      "execution_count": null,
      "outputs": [
        {
          "output_type": "stream",
          "name": "stdout",
          "text": [
            "If you want to learn how to build a website with Python, you’ll need to have a good grasp of this language as well as a good understanding of how websites work. This page is a high-level introduction to how to build a website with Python to help you get started.\n",
            "It’s surprisingly easy to learn, yet still powerful enough for some of the most advanced applications out there, making it a programming language that benefits any developer.\n",
            "meaning it can be used to create almost any type of computer program, including websites.\n",
            "The Python programming language is a general-purpose option,\n",
            "Python developers are among the most in-demand in the tech world today.\n",
            "it has grown in popularity over the last decade.\n",
            "Python is aprogramming language that was developed in 1991.\n"
          ]
        }
      ]
    },
    {
      "cell_type": "code",
      "source": [
        "def tri_recursion(k):\n",
        "  if(k>0):\n",
        "    result = k+tri_recursion(k-1)\n",
        "    print(result)\n",
        "  else:\n",
        "    result = 0\n",
        "  return result\n",
        "\n",
        "print(\"\\n\\nRecursion Example Results\")\n",
        "tri_recursion(6)"
      ],
      "metadata": {
        "colab": {
          "base_uri": "https://localhost:8080/"
        },
        "id": "J2p6DrrcN1jJ",
        "outputId": "0451f286-db05-4fd3-c3f9-6964376a3f7c"
      },
      "execution_count": null,
      "outputs": [
        {
          "output_type": "stream",
          "name": "stdout",
          "text": [
            "\n",
            "\n",
            "Recursion Example Results\n",
            "1\n",
            "3\n",
            "6\n",
            "10\n",
            "15\n",
            "21\n"
          ]
        },
        {
          "output_type": "execute_result",
          "data": {
            "text/plain": [
              "21"
            ]
          },
          "metadata": {},
          "execution_count": 5
        }
      ]
    },
    {
      "cell_type": "code",
      "source": [
        "# Finding the factorial of a number using recursion.\n",
        "def factorial(n):\n",
        "  if n<0:\n",
        "    result = 'Not Defined'\n",
        "  elif n==0:\n",
        "    result = 1\n",
        "  else:\n",
        "    result = n*factorial(n-1)\n",
        "  return result\n",
        "\n",
        "factorial(5)"
      ],
      "metadata": {
        "colab": {
          "base_uri": "https://localhost:8080/"
        },
        "id": "Haba6ErAhioW",
        "outputId": "be4d7e53-261f-4448-fd26-6536b94581c3"
      },
      "execution_count": null,
      "outputs": [
        {
          "output_type": "execute_result",
          "data": {
            "text/plain": [
              "120"
            ]
          },
          "metadata": {},
          "execution_count": 17
        }
      ]
    },
    {
      "cell_type": "code",
      "source": [
        "# Find the factorial of a number without recursion\n",
        "def fac(n):\n",
        "  while n<0:\n",
        "    return 'Not defined'\n",
        "  result = 1\n",
        "  while n>0:\n",
        "    result = result * n\n",
        "    n = n-1\n",
        "  return result\n",
        "\n",
        "fac(5)\n"
      ],
      "metadata": {
        "colab": {
          "base_uri": "https://localhost:8080/"
        },
        "id": "B4iwJAmXlPSV",
        "outputId": "dddc59ab-cebb-4cea-be1d-6a8a79b7c9f1"
      },
      "execution_count": null,
      "outputs": [
        {
          "output_type": "execute_result",
          "data": {
            "text/plain": [
              "120"
            ]
          },
          "metadata": {},
          "execution_count": 11
        }
      ]
    },
    {
      "cell_type": "code",
      "source": [
        "## Python program to check if a number is even or odd using recursion\n",
        "def check_eo(n):\n",
        "  if n<2:\n",
        "    return (print(\"The no is Even\") if n%2==0 else print(\"The no is odd\"))\n",
        "  else:\n",
        "    return (check_eo(n-2))\n",
        "\n",
        "check_eo(7)  "
      ],
      "metadata": {
        "colab": {
          "base_uri": "https://localhost:8080/"
        },
        "id": "sVxRmPoFuNEQ",
        "outputId": "e776f750-103b-4116-c4b7-21ed8e2f08e7"
      },
      "execution_count": null,
      "outputs": [
        {
          "output_type": "stream",
          "name": "stdout",
          "text": [
            "The no is odd\n"
          ]
        }
      ]
    },
    {
      "cell_type": "code",
      "source": [
        "## Write a python program to check all the odd numbers within a range\n",
        "lower = int(input(\"Enter the lower range: \"))\n",
        "upper = int(input(\"Enter the upper range: \"))\n",
        "for i in range(lower,upper):\n",
        "  if i%2==1:\n",
        "    print(i)\n",
        "\n",
        "  \n"
      ],
      "metadata": {
        "colab": {
          "base_uri": "https://localhost:8080/"
        },
        "id": "5p1o4yo9ycr_",
        "outputId": "172cee9e-d593-44de-af01-51651b55c0dc"
      },
      "execution_count": null,
      "outputs": [
        {
          "output_type": "stream",
          "name": "stdout",
          "text": [
            "Enter the lower range: 1\n",
            "Enter the upper range: 10\n",
            "1\n",
            "3\n",
            "5\n",
            "7\n",
            "9\n"
          ]
        }
      ]
    },
    {
      "cell_type": "code",
      "source": [
        "## Python progeam to check if a number is palindrome \n",
        "n = int(input(\"Enter No: \"))\n",
        "def check_pal(n):\n",
        "  temp = n \n",
        "  rev = 0\n",
        "  while n>0:   \n",
        "    dig_from_right = n%10\n",
        "    rev = rev*10+dig_from_right\n",
        "    n = n//10\n",
        "\n",
        "  if rev==temp:\n",
        "    print(\"Ther given no is a palindrome\")\n",
        "  else:\n",
        "    print(\"The given no is not a palindrome\")\n",
        "\n",
        "check_pal(n)"
      ],
      "metadata": {
        "colab": {
          "base_uri": "https://localhost:8080/"
        },
        "id": "YiAf3rv547Qu",
        "outputId": "edd287fe-9e90-4556-cfe4-c06930ba6689"
      },
      "execution_count": null,
      "outputs": [
        {
          "output_type": "stream",
          "name": "stdout",
          "text": [
            "Enter No: 787\n",
            "Ther given no is a palindrome\n"
          ]
        }
      ]
    },
    {
      "cell_type": "code",
      "source": [
        "## Write a python program to reverse a digit\n",
        "n = int(input(\"Enter the no: \"))\n",
        "\n",
        "def rev_digit(n):\n",
        "  temp = n\n",
        "  rev = 0 \n",
        "  while n>0:\n",
        "    dig = n%10\n",
        "    rev = rev*10+dig\n",
        "    n = n//10\n",
        "  return rev\n",
        "\n",
        "rev_digit(n)\n",
        "\n"
      ],
      "metadata": {
        "colab": {
          "base_uri": "https://localhost:8080/"
        },
        "id": "SpJD7Ip_9rAz",
        "outputId": "a47d7ed8-aa82-4fac-ce3e-1755f617ee8e"
      },
      "execution_count": null,
      "outputs": [
        {
          "name": "stdout",
          "output_type": "stream",
          "text": [
            "Enter the no: 987768976\n"
          ]
        },
        {
          "output_type": "execute_result",
          "data": {
            "text/plain": [
              "679867789"
            ]
          },
          "metadata": {},
          "execution_count": 47
        }
      ]
    },
    {
      "cell_type": "code",
      "source": [
        "## Write a python program to find the sum of the digit of a number using recursion \n",
        "\n",
        "def sum_rec(n):\n",
        "  sum = 0\n",
        "  if n==0:\n",
        "    sum = 0\n",
        "    return sum\n",
        "  else:\n",
        "    dig = n%10\n",
        "    sum = dig + sum_rec(n//10)\n",
        "    return sum\n",
        "\n",
        "sum_rec(0)\n",
        "\n"
      ],
      "metadata": {
        "colab": {
          "base_uri": "https://localhost:8080/"
        },
        "id": "mV46ZkFKDfQ_",
        "outputId": "25796afe-caea-4ede-da91-b1b9d11038cc"
      },
      "execution_count": null,
      "outputs": [
        {
          "output_type": "execute_result",
          "data": {
            "text/plain": [
              "0"
            ]
          },
          "metadata": {},
          "execution_count": 52
        }
      ]
    },
    {
      "cell_type": "code",
      "source": [
        "## Write a python program to count the no of digit in a number \n",
        "\n",
        "def count_digit(n):\n",
        "  count = 0 \n",
        "  while n>0:\n",
        "    count = count+1\n",
        "    n = n//10\n",
        "  return count\n",
        "\n",
        "count_digit(1234567890)"
      ],
      "metadata": {
        "colab": {
          "base_uri": "https://localhost:8080/"
        },
        "id": "y8dZEXuRGkSF",
        "outputId": "68db76fb-60c4-4d79-d0eb-0d2e66c9ace5"
      },
      "execution_count": null,
      "outputs": [
        {
          "output_type": "execute_result",
          "data": {
            "text/plain": [
              "10"
            ]
          },
          "metadata": {},
          "execution_count": 57
        }
      ]
    },
    {
      "cell_type": "code",
      "source": [
        "## Write a python program to find all the divisors of an integer\n",
        "n = int(input(\"Enter an integer: \"))\n",
        "for i in range(1,n+1):\n",
        "  if n%i==0:\n",
        "    print(i)"
      ],
      "metadata": {
        "id": "pd8FCuDtNBpg",
        "colab": {
          "base_uri": "https://localhost:8080/"
        },
        "outputId": "a9b5d7db-93cb-410d-ded5-6e1b6ac54847"
      },
      "execution_count": 1,
      "outputs": [
        {
          "output_type": "stream",
          "name": "stdout",
          "text": [
            "Enter an integer: 76756\n",
            "1\n",
            "2\n",
            "4\n",
            "31\n",
            "62\n",
            "124\n",
            "619\n",
            "1238\n",
            "2476\n",
            "19189\n",
            "38378\n",
            "76756\n"
          ]
        }
      ]
    },
    {
      "cell_type": "code",
      "source": [
        "## Write a python program to find the smallest divisor of an integer excluding 1\n",
        "n = int(input(\"Enter an integer: \"))\n",
        "for i in range(2,n+1):\n",
        "  if n%i==0:\n",
        "    print(i)\n",
        "    break\n"
      ],
      "metadata": {
        "colab": {
          "base_uri": "https://localhost:8080/"
        },
        "id": "E8x87A1qB4Sj",
        "outputId": "80a0e6ec-6cfb-4b97-920c-14d2118a4a4c"
      },
      "execution_count": 5,
      "outputs": [
        {
          "output_type": "stream",
          "name": "stdout",
          "text": [
            "Enter an integer: 53\n",
            "53\n"
          ]
        }
      ]
    },
    {
      "cell_type": "code",
      "source": [
        "## Write a python program to print binary equivalent of a number without recusrsion\n",
        "\n",
        "n = int(input(\"Enter an integer to be converted: \"))\n",
        "a = []\n",
        "while n>0:\n",
        "  dig = n%2\n",
        "  a.append(dig)\n",
        "  n = n//2\n",
        "ans = \"\".join(map(str,reversed(a)))\n",
        "print(ans)\n",
        "  \n"
      ],
      "metadata": {
        "colab": {
          "base_uri": "https://localhost:8080/"
        },
        "id": "jxlJGBvbC0SE",
        "outputId": "03e7f9dc-cf8d-485f-c6dc-e875f599eddb"
      },
      "execution_count": 9,
      "outputs": [
        {
          "output_type": "stream",
          "name": "stdout",
          "text": [
            "Enter an integer to be converted: 32\n",
            "100000\n"
          ]
        }
      ]
    },
    {
      "cell_type": "code",
      "source": [
        "## Write a python program to print the binary equivalent of a number with recursion \n",
        "d = []\n",
        "def conv2bi(n):\n",
        "  if (n==0):\n",
        "    return d\n",
        "  dig = n%2\n",
        "  d.append(dig)\n",
        "  conv2bi(n//2)\n",
        "\n",
        "a=int(input(\"Enter a number: \"))\n",
        "conv2bi(a)\n",
        "d.reverse()\n",
        "print(\"Binary equivalent:\")\n",
        "for i in d:\n",
        "    print (i,end=\"\")\n"
      ],
      "metadata": {
        "colab": {
          "base_uri": "https://localhost:8080/"
        },
        "id": "cBUR-2PiFoHT",
        "outputId": "47d5c4f2-9c58-4098-c936-cede3c9a3981"
      },
      "execution_count": 24,
      "outputs": [
        {
          "output_type": "stream",
          "name": "stdout",
          "text": [
            "Enter a number: 7\n",
            "Binary equivalent:\n",
            "111"
          ]
        }
      ]
    },
    {
      "cell_type": "code",
      "source": [
        "## Write a program to print the table of a number\n",
        "\n",
        "n= int(input(\"Enter the no: \"))\n",
        "for i in range(1,n+1):\n",
        "  for j in range(1,11):\n",
        "    print(i,' x ',j,' = ', i*j)\n",
        "  print(\" \")"
      ],
      "metadata": {
        "colab": {
          "base_uri": "https://localhost:8080/"
        },
        "id": "2io-oqivKqfq",
        "outputId": "4b175248-3aac-48ee-c198-1c520ed72bd3"
      },
      "execution_count": 29,
      "outputs": [
        {
          "output_type": "stream",
          "name": "stdout",
          "text": [
            "Enter the no: 10\n",
            "1  x  1  =  1\n",
            "1  x  2  =  2\n",
            "1  x  3  =  3\n",
            "1  x  4  =  4\n",
            "1  x  5  =  5\n",
            "1  x  6  =  6\n",
            "1  x  7  =  7\n",
            "1  x  8  =  8\n",
            "1  x  9  =  9\n",
            "1  x  10  =  10\n",
            " \n",
            "2  x  1  =  2\n",
            "2  x  2  =  4\n",
            "2  x  3  =  6\n",
            "2  x  4  =  8\n",
            "2  x  5  =  10\n",
            "2  x  6  =  12\n",
            "2  x  7  =  14\n",
            "2  x  8  =  16\n",
            "2  x  9  =  18\n",
            "2  x  10  =  20\n",
            " \n",
            "3  x  1  =  3\n",
            "3  x  2  =  6\n",
            "3  x  3  =  9\n",
            "3  x  4  =  12\n",
            "3  x  5  =  15\n",
            "3  x  6  =  18\n",
            "3  x  7  =  21\n",
            "3  x  8  =  24\n",
            "3  x  9  =  27\n",
            "3  x  10  =  30\n",
            " \n",
            "4  x  1  =  4\n",
            "4  x  2  =  8\n",
            "4  x  3  =  12\n",
            "4  x  4  =  16\n",
            "4  x  5  =  20\n",
            "4  x  6  =  24\n",
            "4  x  7  =  28\n",
            "4  x  8  =  32\n",
            "4  x  9  =  36\n",
            "4  x  10  =  40\n",
            " \n",
            "5  x  1  =  5\n",
            "5  x  2  =  10\n",
            "5  x  3  =  15\n",
            "5  x  4  =  20\n",
            "5  x  5  =  25\n",
            "5  x  6  =  30\n",
            "5  x  7  =  35\n",
            "5  x  8  =  40\n",
            "5  x  9  =  45\n",
            "5  x  10  =  50\n",
            " \n",
            "6  x  1  =  6\n",
            "6  x  2  =  12\n",
            "6  x  3  =  18\n",
            "6  x  4  =  24\n",
            "6  x  5  =  30\n",
            "6  x  6  =  36\n",
            "6  x  7  =  42\n",
            "6  x  8  =  48\n",
            "6  x  9  =  54\n",
            "6  x  10  =  60\n",
            " \n",
            "7  x  1  =  7\n",
            "7  x  2  =  14\n",
            "7  x  3  =  21\n",
            "7  x  4  =  28\n",
            "7  x  5  =  35\n",
            "7  x  6  =  42\n",
            "7  x  7  =  49\n",
            "7  x  8  =  56\n",
            "7  x  9  =  63\n",
            "7  x  10  =  70\n",
            " \n",
            "8  x  1  =  8\n",
            "8  x  2  =  16\n",
            "8  x  3  =  24\n",
            "8  x  4  =  32\n",
            "8  x  5  =  40\n",
            "8  x  6  =  48\n",
            "8  x  7  =  56\n",
            "8  x  8  =  64\n",
            "8  x  9  =  72\n",
            "8  x  10  =  80\n",
            " \n",
            "9  x  1  =  9\n",
            "9  x  2  =  18\n",
            "9  x  3  =  27\n",
            "9  x  4  =  36\n",
            "9  x  5  =  45\n",
            "9  x  6  =  54\n",
            "9  x  7  =  63\n",
            "9  x  8  =  72\n",
            "9  x  9  =  81\n",
            "9  x  10  =  90\n",
            " \n",
            "10  x  1  =  10\n",
            "10  x  2  =  20\n",
            "10  x  3  =  30\n",
            "10  x  4  =  40\n",
            "10  x  5  =  50\n",
            "10  x  6  =  60\n",
            "10  x  7  =  70\n",
            "10  x  8  =  80\n",
            "10  x  9  =  90\n",
            "10  x  10  =  100\n",
            " \n"
          ]
        }
      ]
    },
    {
      "cell_type": "code",
      "source": [
        "## Write a python program to check if a date is valid and print the incremented date if it is \n",
        "\n",
        "date = input(\"Enter date: \")\n",
        "dd,mm,yy = map(int,date.split('/'))\n",
        "\n",
        "if(mm==1 or mm==3 or mm==5 or mm==7 or mm==8 or mm==10 or mm==12):\n",
        "    max1=31\n",
        "elif(mm==4 or mm==6 or mm==9 or mm==11):\n",
        "    max1=30\n",
        "elif(yy%4==0 and yy%100!=0 or yy%400==0):\n",
        "    max1=29\n",
        "else:\n",
        "    max1=28\n",
        "if(mm<1 or mm>12):\n",
        "    print(\"Date is invalid.\")\n",
        "elif(dd<1 or dd>max1):\n",
        "    print(\"Date is invalid.\")\n",
        "elif(dd==max1 and mm!=12):\n",
        "    dd=1\n",
        "    mm=mm+1\n",
        "    print(\"The incremented date is: \",dd,mm,yy)\n",
        "elif(dd==31 and mm==12):\n",
        "    dd=1\n",
        "    mm=1\n",
        "    yy=yy+1\n",
        "    print(\"The incremented date is: \",dd,mm,yy)\n",
        "else:\n",
        "    dd=dd+1\n",
        "    print(\"The incremented date is: \",dd,mm,yy)\n",
        "\n"
      ],
      "metadata": {
        "colab": {
          "base_uri": "https://localhost:8080/"
        },
        "id": "vJ6l_E1VPm15",
        "outputId": "7f8c6d59-e7c6-4c9a-844a-71e3a113c0df"
      },
      "execution_count": 32,
      "outputs": [
        {
          "output_type": "stream",
          "name": "stdout",
          "text": [
            "Enter date: 31/12/1999\n",
            "The incremented date is:  1 1 2000\n"
          ]
        }
      ]
    },
    {
      "cell_type": "code",
      "source": [
        "## Write a python Program to Check Whether a given Year is a Leap Year\n",
        "\n",
        "year = int(input(\"Enter year to be checked: \"))\n",
        "if(year%4==0 and year%100!=0 or year%400==0):\n",
        "  print(\"The given year is a leap year\")\n",
        "else:\n",
        "  print(\"No chance\")"
      ],
      "metadata": {
        "colab": {
          "base_uri": "https://localhost:8080/"
        },
        "id": "BG6L4djXTI4t",
        "outputId": "2082c991-f483-42fd-b0c1-6fceedd2779e"
      },
      "execution_count": 34,
      "outputs": [
        {
          "output_type": "stream",
          "name": "stdout",
          "text": [
            "Enter year to be checked: 2000\n",
            "The given year is a leap year\n"
          ]
        }
      ]
    },
    {
      "cell_type": "code",
      "source": [
        "## Write a python program to read a number and compute n+nn+nnn\n",
        "n = int(input(\"Enter no: \"))\n",
        "print(n+int(2*str(n))+int(3*str(n)))"
      ],
      "metadata": {
        "colab": {
          "base_uri": "https://localhost:8080/"
        },
        "id": "7jh2idcUT0yB",
        "outputId": "49a61a30-4ab7-4004-b7a4-3de898914edb"
      },
      "execution_count": 37,
      "outputs": [
        {
          "output_type": "stream",
          "name": "stdout",
          "text": [
            "Enter no: 5\n",
            "615\n"
          ]
        }
      ]
    }
  ]
}