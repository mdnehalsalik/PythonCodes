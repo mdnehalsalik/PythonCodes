{
  "nbformat": 4,
  "nbformat_minor": 0,
  "metadata": {
    "colab": {
      "provenance": [],
      "authorship_tag": "ABX9TyNffaFTqH3/FFL8QQQPLUlc",
      "include_colab_link": true
    },
    "kernelspec": {
      "name": "python3",
      "display_name": "Python 3"
    },
    "language_info": {
      "name": "python"
    }
  },
  "cells": [
    {
      "cell_type": "markdown",
      "metadata": {
        "id": "view-in-github",
        "colab_type": "text"
      },
      "source": [
        "<a href=\"https://colab.research.google.com/github/mdnehalsalik/PythonCodes/blob/main/Sanfoundary.ipynb\" target=\"_parent\"><img src=\"https://colab.research.google.com/assets/colab-badge.svg\" alt=\"Open In Colab\"/></a>"
      ]
    },
    {
      "cell_type": "markdown",
      "source": [
        "## File Handling in Python \n",
        "### - For details refer the notability notes in the ipad. \n",
        "##### find the relevant reference articles below.\n",
        "https://www.freecodecamp.org/news/how-to-read-files-in-python/\n",
        "\n",
        "https://www.w3schools.com/python/python_file_open.asp\n",
        "\n",
        "https://www.pythontutorial.net/python-basics/python-read-text-file/"
      ],
      "metadata": {
        "id": "YrxCUAsilL9D"
      }
    },
    {
      "cell_type": "code",
      "execution_count": null,
      "metadata": {
        "colab": {
          "base_uri": "https://localhost:8080/"
        },
        "id": "naZZApcI4zX5",
        "outputId": "a1c44d30-3746-47ce-f667-2ab6eb7a6807"
      },
      "outputs": [
        {
          "output_type": "stream",
          "name": "stdout",
          "text": [
            "Python is a programming language that was developed in 1991,\n",
            "\n",
            "it has grown in popularity over the last decade.\n",
            "\n",
            "Python developers are among the most in-demand in the tech world today.\n",
            "\n",
            "The Python programming language is a general-purpose option, \n",
            "\n",
            "meaning it can be used to create almost any type of computer program, including websites.\n",
            "\n",
            "It’s surprisingly easy to learn, yet still powerful enough for some of the most advanced applications out there, making it a programming language that benefits any developer.\n",
            "\n",
            "\n",
            "\n",
            "If you want to learn how to build a website with Python, you’ll need to have a good grasp of this language as well as a good understanding of how websites work. This page is a high-level introduction to how to build a website with Python to help you get started.\n"
          ]
        }
      ],
      "source": [
        "# a = str(input(\"Enter the file name: \"))\n",
        "a = \"test1.txt\"\n",
        "file = open(a,'r')\n",
        "line = file.readline()\n",
        "while (line!=\"\"):\n",
        "  print(line)\n",
        "  line = file.readline()\n",
        "file.close()"
      ]
    },
    {
      "cell_type": "code",
      "source": [
        "# use the rstrip to delete the empty line after each line.\n",
        "# a = str(input(\"Enter the file name: \"))\n",
        "a = \"test1.txt\"\n",
        "file = open(a,'r')\n",
        "line = file.readline()\n",
        "while (line!=\"\"):\n",
        "  print(line.rstrip())\n",
        "  line = file.readline()\n",
        "file.close()"
      ],
      "metadata": {
        "colab": {
          "base_uri": "https://localhost:8080/"
        },
        "id": "IGufAm9Ai_4T",
        "outputId": "768399cc-f96c-49fa-dc13-d71de7f88db6"
      },
      "execution_count": null,
      "outputs": [
        {
          "output_type": "stream",
          "name": "stdout",
          "text": [
            "Python is a programming language that was developed in 1991,\n",
            "it has grown in popularity over the last decade.\n",
            "Python developers are among the most in-demand in the tech world today.\n",
            "The Python programming language is a general-purpose option,\n",
            "meaning it can be used to create almost any type of computer program, including websites.\n",
            "It’s surprisingly easy to learn, yet still powerful enough for some of the most advanced applications out there, making it a programming language that benefits any developer.\n",
            "\n",
            "If you want to learn how to build a website with Python, you’ll need to have a good grasp of this language as well as a good understanding of how websites work. This page is a high-level introduction to how to build a website with Python to help you get started.\n"
          ]
        }
      ]
    },
    {
      "cell_type": "markdown",
      "source": [
        "### Write the content of one file to the end of other file."
      ],
      "metadata": {
        "id": "fbcz8b86lyUj"
      }
    },
    {
      "cell_type": "code",
      "source": [
        "with open('test1.txt', 'r') as f1:\n",
        "  with open(\"test2.txt\", 'w') as f2:\n",
        "    for line in f1:\n",
        "      f2.write(line)\n",
        "for line in open('test2.txt'):\n",
        "  print(line.rstrip())"
      ],
      "metadata": {
        "colab": {
          "base_uri": "https://localhost:8080/"
        },
        "id": "KwtIn-BMl89W",
        "outputId": "b093955d-fa43-443f-bdaa-b40a64ca206a"
      },
      "execution_count": null,
      "outputs": [
        {
          "output_type": "stream",
          "name": "stdout",
          "text": [
            "Python is a programming language that was developed in 1991,\n",
            "it has grown in popularity over the last decade.\n",
            "Python developers are among the most in-demand in the tech world today.\n",
            "The Python programming language is a general-purpose option,\n",
            "meaning it can be used to create almost any type of computer program, including websites.\n",
            "It’s surprisingly easy to learn, yet still powerful enough for some of the most advanced applications out there, making it a programming language that benefits any developer.\n",
            "\n",
            "If you want to learn how to build a website with Python, you’ll need to have a good grasp of this language as well as a good understanding of how websites work. This page is a high-level introduction to how to build a website with Python to help you get started.\n"
          ]
        }
      ]
    },
    {
      "cell_type": "code",
      "source": [
        "# Basicaly in simple words we need to create the file handler in Python to handle the opening and closing of the file.\n",
        "fhand = open('test1.txt')\n",
        "for line in fhand:\n",
        "  line = line.rstrip()\n",
        "  print(line)"
      ],
      "metadata": {
        "colab": {
          "base_uri": "https://localhost:8080/"
        },
        "id": "AU3idYxvRsdG",
        "outputId": "f442e603-5d39-4bfc-92eb-c2fd3523bf00"
      },
      "execution_count": null,
      "outputs": [
        {
          "output_type": "stream",
          "name": "stdout",
          "text": [
            "Python is a programming language that was developed in 1991,\n",
            "it has grown in popularity over the last decade.\n",
            "Python developers are among the most in-demand in the tech world today.\n",
            "The Python programming language is a general-purpose option,\n",
            "meaning it can be used to create almost any type of computer program, including websites.\n",
            "It’s surprisingly easy to learn, yet still powerful enough for some of the most advanced applications out there, making it a programming language that benefits any developer.\n",
            "\n",
            "If you want to learn how to build a website with Python, you’ll need to have a good grasp of this language as well as a good understanding of how websites work. This page is a high-level introduction to how to build a website with Python to help you get started.\n"
          ]
        }
      ]
    },
    {
      "cell_type": "code",
      "source": [
        "s = '3 4\\t  3\\n 5'\n",
        "print(s)"
      ],
      "metadata": {
        "colab": {
          "base_uri": "https://localhost:8080/"
        },
        "id": "YeFl9UtMVVIP",
        "outputId": "e0d3059b-f07e-4b7b-bb83-4a5769240550"
      },
      "execution_count": null,
      "outputs": [
        {
          "output_type": "stream",
          "name": "stdout",
          "text": [
            "3 4\t  3\n",
            " 5\n"
          ]
        }
      ]
    },
    {
      "cell_type": "code",
      "source": [
        "# The repr method prints the representatin of the output\n",
        "print(repr(s))"
      ],
      "metadata": {
        "colab": {
          "base_uri": "https://localhost:8080/"
        },
        "id": "r4nn3nEVVrFE",
        "outputId": "0b774ca3-e08f-4222-cb09-3a2d7b51be4a"
      },
      "execution_count": null,
      "outputs": [
        {
          "output_type": "stream",
          "name": "stdout",
          "text": [
            "'3 4\\t  3\\n 5'\n"
          ]
        }
      ]
    },
    {
      "cell_type": "code",
      "source": [
        "fhand = open('test1.txt')\n",
        "for line in fhand:\n",
        "  print(repr(line))"
      ],
      "metadata": {
        "colab": {
          "base_uri": "https://localhost:8080/"
        },
        "id": "0mlnjREsWG0s",
        "outputId": "c5fa77f7-3562-4e52-b800-08813311a0ee"
      },
      "execution_count": null,
      "outputs": [
        {
          "output_type": "stream",
          "name": "stdout",
          "text": [
            "'Python is a programming language that was developed in 1991,\\n'\n",
            "'it has grown in popularity over the last decade.\\n'\n",
            "'Python developers are among the most in-demand in the tech world today.\\n'\n",
            "'The Python programming language is a general-purpose option, \\n'\n",
            "'meaning it can be used to create almost any type of computer program, including websites.\\n'\n",
            "'It’s surprisingly easy to learn, yet still powerful enough for some of the most advanced applications out there, making it a programming language that benefits any developer.\\n'\n",
            "'\\n'\n",
            "'If you want to learn how to build a website with Python, you’ll need to have a good grasp of this language as well as a good understanding of how websites work. This page is a high-level introduction to how to build a website with Python to help you get started.'\n"
          ]
        }
      ]
    },
    {
      "cell_type": "code",
      "source": [
        "# filename  = str(input(\"Enter File Name: \"))\n",
        "filename= \"test1.txt\"\n",
        "filehand = open(filename, 'r')\n",
        "for line in filehand:\n",
        "  line = line.rstrip()\n",
        "  print(line)"
      ],
      "metadata": {
        "colab": {
          "base_uri": "https://localhost:8080/"
        },
        "id": "5tag0oHeWaFx",
        "outputId": "35584348-2b59-4161-d37f-81b8b3677b61"
      },
      "execution_count": null,
      "outputs": [
        {
          "output_type": "stream",
          "name": "stdout",
          "text": [
            "Python is a programming language that was developed in 1991,\n",
            "it has grown in popularity over the last decade.\n",
            "Python developers are among the most in-demand in the tech world today.\n",
            "The Python programming language is a general-purpose option,\n",
            "meaning it can be used to create almost any type of computer program, including websites.\n",
            "It’s surprisingly easy to learn, yet still powerful enough for some of the most advanced applications out there, making it a programming language that benefits any developer.\n",
            "\n",
            "If you want to learn how to build a website with Python, you’ll need to have a good grasp of this language as well as a good understanding of how websites work. This page is a high-level introduction to how to build a website with Python to help you get started.\n"
          ]
        }
      ]
    },
    {
      "cell_type": "code",
      "source": [
        "# Write a function to print the no of lines in a file\n",
        "def read_no_line(filename):\n",
        "  filehand = open(filename,'r')\n",
        "  for line in filehand:\n",
        "    line = line.rstrip()\n",
        "    print(line)"
      ],
      "metadata": {
        "id": "k7wf4eBtY_X7"
      },
      "execution_count": null,
      "outputs": []
    },
    {
      "cell_type": "code",
      "source": [
        "read_no_line('test2.txt')"
      ],
      "metadata": {
        "colab": {
          "base_uri": "https://localhost:8080/"
        },
        "id": "IMDvKhlSZ6sh",
        "outputId": "869a0345-b955-4a54-e4ba-ce1a8ea00b2e"
      },
      "execution_count": null,
      "outputs": [
        {
          "output_type": "stream",
          "name": "stdout",
          "text": [
            "Python is a programming language that was developed in 1991,\n",
            "it has grown in popularity over the last decade.\n",
            "Python developers are among the most in-demand in the tech world today.\n",
            "The Python programming language is a general-purpose option,\n",
            "meaning it can be used to create almost any type of computer program, including websites.\n",
            "It’s surprisingly easy to learn, yet still powerful enough for some of the most advanced applications out there, making it a programming language that benefits any developer.\n",
            "\n",
            "If you want to learn how to build a website with Python, you’ll need to have a good grasp of this language as well as a good understanding of how websites work. This page is a high-level introduction to how to build a website with Python to help you get started.\n"
          ]
        }
      ]
    },
    {
      "cell_type": "code",
      "source": [
        "# file = input(\"Enter the file name: \")\n",
        "file= \"test1.txt\"\n",
        "filehand = open(file, 'r')\n",
        "count = 0 \n",
        "for line in filehand:\n",
        "  count = count+1\n",
        "print(count)"
      ],
      "metadata": {
        "colab": {
          "base_uri": "https://localhost:8080/"
        },
        "id": "OFoQRc4lpDxO",
        "outputId": "accb673e-fbd5-4de9-9bb3-d7a207078796"
      },
      "execution_count": null,
      "outputs": [
        {
          "output_type": "stream",
          "name": "stdout",
          "text": [
            "8\n"
          ]
        }
      ]
    },
    {
      "cell_type": "code",
      "source": [
        "# Write a function to count the no of lines in a file\n",
        "def count_no_line(file):\n",
        "  filehand = open(file,'r')\n",
        "  count = 0\n",
        "  for line in filehand:\n",
        "    count +=1\n",
        "  return count\n"
      ],
      "metadata": {
        "id": "-8k7cYDdpboo"
      },
      "execution_count": null,
      "outputs": []
    },
    {
      "cell_type": "code",
      "source": [
        "count_no_line('test2.txt')"
      ],
      "metadata": {
        "colab": {
          "base_uri": "https://localhost:8080/"
        },
        "id": "7qv8UUHarU-R",
        "outputId": "81db1f67-43e0-437f-85d1-ffbf45ea6f48"
      },
      "execution_count": null,
      "outputs": [
        {
          "output_type": "execute_result",
          "data": {
            "text/plain": [
              "8"
            ]
          },
          "metadata": {},
          "execution_count": 36
        }
      ]
    },
    {
      "cell_type": "markdown",
      "source": [
        "## How to Write a file in Python\n",
        "\n",
        "By default the file handler opens the file in the read mode, however we can write to a file, if we open the file with any of the following modes:\n",
        "\n",
        "\n",
        "\n",
        "*   w - Writes to an existing file, but erases existing content\n",
        "*   a - Append to an existing file\n",
        "*   x - creates a file and return an error, if the file exists\n",
        "\n",
        "\n",
        "\n",
        "\n",
        "\n"
      ],
      "metadata": {
        "id": "1YIbOHbFr6-v"
      }
    },
    {
      "cell_type": "code",
      "source": [
        "# open the file with the mode 'w'\n",
        "\n",
        "with open('test2.txt', 'w') as f:\n",
        "  f.write('This content should be written and everything should go')\n",
        "  f.close()\n",
        "for line in open('test2.txt'):\n",
        "  print(line)"
      ],
      "metadata": {
        "colab": {
          "base_uri": "https://localhost:8080/"
        },
        "id": "O5HIRZjZstgd",
        "outputId": "a23a73b9-ecb2-4698-d6a8-3967b7d0660d"
      },
      "execution_count": null,
      "outputs": [
        {
          "output_type": "stream",
          "name": "stdout",
          "text": [
            "This content should be written and everything should go\n"
          ]
        }
      ]
    },
    {
      "cell_type": "code",
      "source": [
        "# open the file with mode 'a'\n",
        "\n",
        "with open('test2.txt', 'a') as f:\n",
        "  f.write(\"\\nThis content shoudl be appended in the end\")\n",
        "  f.close()\n",
        "\n",
        "for line in open('test2.txt'):\n",
        "  print(line)\n"
      ],
      "metadata": {
        "colab": {
          "base_uri": "https://localhost:8080/"
        },
        "id": "Zyiai0pqtJmC",
        "outputId": "1813b398-2a76-432d-cb60-b495b4eda425"
      },
      "execution_count": null,
      "outputs": [
        {
          "output_type": "stream",
          "name": "stdout",
          "text": [
            "This content should be written and everything should go\n",
            "\n",
            "This content shoudl be appended in the end\n"
          ]
        }
      ]
    },
    {
      "cell_type": "code",
      "source": [
        "# Open a file with mode 'x'\n",
        "filehand = open('newfile', 'x')\n",
        "filehand.write('Now the new file also has some content')\n",
        "filehand.close()\n",
        "\n",
        "for line in open('newfile'):\n",
        "  print(line)"
      ],
      "metadata": {
        "colab": {
          "base_uri": "https://localhost:8080/"
        },
        "id": "hmTFznj6uOkx",
        "outputId": "4950b4f5-9ffd-45f6-bcd0-276e2215477f"
      },
      "execution_count": null,
      "outputs": [
        {
          "output_type": "stream",
          "name": "stdout",
          "text": [
            "Now the new file also has some content\n"
          ]
        }
      ]
    },
    {
      "cell_type": "code",
      "source": [
        "# If the file already exist, we will get an exception like below\n",
        "filehand = open('newfile', 'x')\n",
        "filehand.write('Now the new file also has some content')\n",
        "filehand.close()\n",
        "\n",
        "for line in open('newfile'):\n",
        "  print(line)"
      ],
      "metadata": {
        "colab": {
          "base_uri": "https://localhost:8080/",
          "height": 235
        },
        "id": "D4jVCOZ8urds",
        "outputId": "0711ec26-7c9a-4b78-8674-e711cab0de65"
      },
      "execution_count": null,
      "outputs": [
        {
          "output_type": "error",
          "ename": "FileExistsError",
          "evalue": "ignored",
          "traceback": [
            "\u001b[0;31m---------------------------------------------------------------------------\u001b[0m",
            "\u001b[0;31mFileExistsError\u001b[0m                           Traceback (most recent call last)",
            "\u001b[0;32m<ipython-input-40-283de1f60d6e>\u001b[0m in \u001b[0;36m<module>\u001b[0;34m\u001b[0m\n\u001b[1;32m      1\u001b[0m \u001b[0;31m# If the file already exist, we will get an exception like below\u001b[0m\u001b[0;34m\u001b[0m\u001b[0;34m\u001b[0m\u001b[0;34m\u001b[0m\u001b[0m\n\u001b[0;32m----> 2\u001b[0;31m \u001b[0mfilehand\u001b[0m \u001b[0;34m=\u001b[0m \u001b[0mopen\u001b[0m\u001b[0;34m(\u001b[0m\u001b[0;34m'newfile'\u001b[0m\u001b[0;34m,\u001b[0m \u001b[0;34m'x'\u001b[0m\u001b[0;34m)\u001b[0m\u001b[0;34m\u001b[0m\u001b[0;34m\u001b[0m\u001b[0m\n\u001b[0m\u001b[1;32m      3\u001b[0m \u001b[0mfilehand\u001b[0m\u001b[0;34m.\u001b[0m\u001b[0mwrite\u001b[0m\u001b[0;34m(\u001b[0m\u001b[0;34m'Now the new file also has some content'\u001b[0m\u001b[0;34m)\u001b[0m\u001b[0;34m\u001b[0m\u001b[0;34m\u001b[0m\u001b[0m\n\u001b[1;32m      4\u001b[0m \u001b[0mfilehand\u001b[0m\u001b[0;34m.\u001b[0m\u001b[0mclose\u001b[0m\u001b[0;34m(\u001b[0m\u001b[0;34m)\u001b[0m\u001b[0;34m\u001b[0m\u001b[0;34m\u001b[0m\u001b[0m\n\u001b[1;32m      5\u001b[0m \u001b[0;34m\u001b[0m\u001b[0m\n",
            "\u001b[0;31mFileExistsError\u001b[0m: [Errno 17] File exists: 'newfile'"
          ]
        }
      ]
    },
    {
      "cell_type": "code",
      "source": [
        "# Exception Handling\n",
        "fname = input(\"Enter the file name: \")\n",
        "try:\n",
        "  fhand = open(fname)\n",
        "except:\n",
        "  print('File not found and cant be opened:', fname)\n",
        "  exit()\n",
        "count = 0\n",
        "for line in fhand:\n",
        "  count = count + 1\n",
        "print(\"There are\", count, 'lines in ', fname)"
      ],
      "metadata": {
        "id": "2SuPJvc8uzrZ"
      },
      "execution_count": null,
      "outputs": []
    },
    {
      "cell_type": "markdown",
      "source": [
        "## Ways to read the text file \n",
        "\n",
        "There are three methods to read the file object in the python.\n",
        "\n",
        "\n",
        "1.   read(size) – read some contents of a file based on the optional size and return the contents as a string. If you omit the size, the read() method reads from where it left off till the end of the file. If the end of a file has been reached, the read() method returns an empty string.\n",
        "\n",
        "2.   readline() – read a single line from a text file and return the line as a string. If the end of a file has been reached, the readline() returns an empty string.\n",
        "3.   readlines() – read all the lines of the text file into a list of strings. This method is useful if you have a small file and you want to manipulate the whole text of that file.\n",
        "\n",
        "\n",
        "\n",
        "\n"
      ],
      "metadata": {
        "id": "IXxkkv0xEgNq"
      }
    },
    {
      "cell_type": "code",
      "source": [
        "with open('test1.txt') as f:\n",
        "  [print(line.rstrip()) for line in f.readlines()]"
      ],
      "metadata": {
        "colab": {
          "base_uri": "https://localhost:8080/"
        },
        "id": "a4v8oZrOFKHU",
        "outputId": "dc3dc6da-1ab2-4faf-c777-aa265cfa4654"
      },
      "execution_count": null,
      "outputs": [
        {
          "output_type": "stream",
          "name": "stdout",
          "text": [
            "Python is a programming language that was developed in 1991,\n",
            "it has grown in popularity over the last decade.\n",
            "Python developers are among the most in-demand in the tech world today.\n",
            "The Python programming language is a general-purpose option,\n",
            "meaning it can be used to create almost any type of computer program, including websites.\n",
            "It’s surprisingly easy to learn, yet still powerful enough for some of the most advanced applications out there, making it a programming language that benefits any developer.\n",
            "\n",
            "If you want to learn how to build a website with Python, you’ll need to have a good grasp of this language as well as a good understanding of how websites work. This page is a high-level introduction to how to build a website with Python to help you get started.\n"
          ]
        }
      ]
    },
    {
      "cell_type": "code",
      "source": [
        "## Python program to count the number of blank Spaces in a text file.\n",
        "# fname = input(\"Enter the file name: \")\n",
        "fname = 'test1.txt'\n",
        "k = 0\n",
        "\n",
        "with open(fname, 'r') as f:\n",
        "  for line in f:\n",
        "    words = line.split()\n",
        "    print(words)\n",
        "    for i in words:\n",
        "      for letter in i:\n",
        "        if (letter.isspace):\n",
        "          k = k+1\n",
        "print(\"Occuerences of blank spaces: \")\n",
        "print(k)"
      ],
      "metadata": {
        "colab": {
          "base_uri": "https://localhost:8080/"
        },
        "id": "ag-XCY7wzB_f",
        "outputId": "e41989b1-987b-48f5-bf04-35b135ce0a28"
      },
      "execution_count": null,
      "outputs": [
        {
          "output_type": "stream",
          "name": "stdout",
          "text": [
            "['Python', 'is', 'a', 'programming', 'language', 'that', 'was', 'developed', 'in', '1991,']\n",
            "['it', 'has', 'grown', 'in', 'popularity', 'over', 'the', 'last', 'decade.']\n",
            "['Python', 'developers', 'are', 'among', 'the', 'most', 'in-demand', 'in', 'the', 'tech', 'world', 'today.']\n",
            "['The', 'Python', 'programming', 'language', 'is', 'a', 'general-purpose', 'option,']\n",
            "['meaning', 'it', 'can', 'be', 'used', 'to', 'create', 'almost', 'any', 'type', 'of', 'computer', 'program,', 'including', 'websites.']\n",
            "['It’s', 'surprisingly', 'easy', 'to', 'learn,', 'yet', 'still', 'powerful', 'enough', 'for', 'some', 'of', 'the', 'most', 'advanced', 'applications', 'out', 'there,', 'making', 'it', 'a', 'programming', 'language', 'that', 'benefits', 'any', 'developer.']\n",
            "[]\n",
            "['If', 'you', 'want', 'to', 'learn', 'how', 'to', 'build', 'a', 'website', 'with', 'Python,', 'you’ll', 'need', 'to', 'have', 'a', 'good', 'grasp', 'of', 'this', 'language', 'as', 'well', 'as', 'a', 'good', 'understanding', 'of', 'how', 'websites', 'work.', 'This', 'page', 'is', 'a', 'high-level', 'introduction', 'to', 'how', 'to', 'build', 'a', 'website', 'with', 'Python', 'to', 'help', 'you', 'get', 'started.']\n",
            "Occuerences of blank spaces: \n",
            "639\n"
          ]
        }
      ]
    },
    {
      "cell_type": "code",
      "source": [
        "a = 'Ram is a good  boy\\n'\n",
        "for words in a.split():\n",
        "  print(words)\n",
        "  for letter in words:\n",
        "    if(letter.isspace()):\n",
        "      print(True)\n",
        "    else:\n",
        "      print(False)"
      ],
      "metadata": {
        "id": "lL0CzPO41zDZ",
        "colab": {
          "base_uri": "https://localhost:8080/"
        },
        "outputId": "9e46e882-8246-4e56-c4a9-9c0ad5b3ee00"
      },
      "execution_count": null,
      "outputs": [
        {
          "output_type": "stream",
          "name": "stdout",
          "text": [
            "Ram\n",
            "False\n",
            "False\n",
            "False\n",
            "is\n",
            "False\n",
            "False\n",
            "a\n",
            "False\n",
            "good\n",
            "False\n",
            "False\n",
            "False\n",
            "False\n",
            "boy\n",
            "False\n",
            "False\n",
            "False\n"
          ]
        }
      ]
    },
    {
      "cell_type": "code",
      "source": [
        "## Python Program to Count the Occurrences of a Word in a Text File\n",
        "# file_name = input(\"Enter file name: \")\n",
        "file_name= \"test1.txt\"\n",
        "word_name = input(\"Enter the word name: \")\n",
        "count = 0\n",
        "with open(file_name, 'r') as f:\n",
        "  for line in f:\n",
        "    word_vec = line.split()\n",
        "    for word in word_vec:\n",
        "      if word == word_name:\n",
        "        count+=1\n",
        "print(count)\n",
        "\n"
      ],
      "metadata": {
        "colab": {
          "base_uri": "https://localhost:8080/"
        },
        "id": "BTA-ENTi5DZg",
        "outputId": "335966d5-050e-4d35-91e2-2bab48a1d1a2"
      },
      "execution_count": null,
      "outputs": [
        {
          "output_type": "stream",
          "name": "stdout",
          "text": [
            "Enter the word name: Python\n",
            "4\n"
          ]
        }
      ]
    },
    {
      "cell_type": "code",
      "source": [
        "## Python Program to Count the Number of Words in a Text File\n",
        "f_name = input(\"Enter the file name: \")\n",
        "count = 0\n",
        "\n",
        "with open(file_name , 'r') as f:\n",
        "  for lines in f:\n",
        "    word_vector = f.readline()\n",
        "    # for word in word_vector:\n",
        "      # count+=1\n",
        "    count +=len(word_vector)\n",
        "print(\"The no of words in the file is: \", count)\n",
        "\n",
        "\n"
      ],
      "metadata": {
        "colab": {
          "base_uri": "https://localhost:8080/"
        },
        "id": "qVBCYuC5BmJz",
        "outputId": "3ef116e2-fc4d-4825-c3bb-036cbfa6df33"
      },
      "execution_count": null,
      "outputs": [
        {
          "output_type": "stream",
          "name": "stdout",
          "text": [
            "Enter the file name: test1.txt\n",
            "The no of words in the file is:  548\n"
          ]
        }
      ]
    },
    {
      "cell_type": "code",
      "source": [
        "## Python program to capitalize the first letter of each word in a file.\n",
        "# f_name = input(\"Enter file name: \")\n",
        "f_name= \"test1.txt\"\n",
        "\n",
        "with open(f_name, 'r') as f:\n",
        "  with open('test2.txt', 'x') as f1:\n",
        "    for line in f:\n",
        "      l = line.title()\n",
        "      f1.write(l)\n",
        "\n",
        "\n",
        "    \n",
        "    \n"
      ],
      "metadata": {
        "colab": {
          "base_uri": "https://localhost:8080/",
          "height": 235
        },
        "id": "RNQYMdJHM3DT",
        "outputId": "375e1c2e-ab22-46af-8618-f9caa396763e"
      },
      "execution_count": null,
      "outputs": [
        {
          "output_type": "error",
          "ename": "FileExistsError",
          "evalue": "ignored",
          "traceback": [
            "\u001b[0;31m---------------------------------------------------------------------------\u001b[0m",
            "\u001b[0;31mFileExistsError\u001b[0m                           Traceback (most recent call last)",
            "\u001b[0;32m<ipython-input-46-7720cbc86a70>\u001b[0m in \u001b[0;36m<module>\u001b[0;34m\u001b[0m\n\u001b[1;32m      4\u001b[0m \u001b[0;34m\u001b[0m\u001b[0m\n\u001b[1;32m      5\u001b[0m \u001b[0;32mwith\u001b[0m \u001b[0mopen\u001b[0m\u001b[0;34m(\u001b[0m\u001b[0mf_name\u001b[0m\u001b[0;34m,\u001b[0m \u001b[0;34m'r'\u001b[0m\u001b[0;34m)\u001b[0m \u001b[0;32mas\u001b[0m \u001b[0mf\u001b[0m\u001b[0;34m:\u001b[0m\u001b[0;34m\u001b[0m\u001b[0;34m\u001b[0m\u001b[0m\n\u001b[0;32m----> 6\u001b[0;31m   \u001b[0;32mwith\u001b[0m \u001b[0mopen\u001b[0m\u001b[0;34m(\u001b[0m\u001b[0;34m'test2.txt'\u001b[0m\u001b[0;34m,\u001b[0m \u001b[0;34m'x'\u001b[0m\u001b[0;34m)\u001b[0m \u001b[0;32mas\u001b[0m \u001b[0mf1\u001b[0m\u001b[0;34m:\u001b[0m\u001b[0;34m\u001b[0m\u001b[0;34m\u001b[0m\u001b[0m\n\u001b[0m\u001b[1;32m      7\u001b[0m     \u001b[0;32mfor\u001b[0m \u001b[0mline\u001b[0m \u001b[0;32min\u001b[0m \u001b[0mf\u001b[0m\u001b[0;34m:\u001b[0m\u001b[0;34m\u001b[0m\u001b[0;34m\u001b[0m\u001b[0m\n\u001b[1;32m      8\u001b[0m       \u001b[0ml\u001b[0m \u001b[0;34m=\u001b[0m \u001b[0mline\u001b[0m\u001b[0;34m.\u001b[0m\u001b[0mtitle\u001b[0m\u001b[0;34m(\u001b[0m\u001b[0;34m)\u001b[0m\u001b[0;34m\u001b[0m\u001b[0;34m\u001b[0m\u001b[0m\n",
            "\u001b[0;31mFileExistsError\u001b[0m: [Errno 17] File exists: 'test2.txt'"
          ]
        }
      ]
    },
    {
      "cell_type": "code",
      "source": [
        "[print(line.rstrip()) for line in open('test2.txt').readlines()]"
      ],
      "metadata": {
        "colab": {
          "base_uri": "https://localhost:8080/"
        },
        "id": "u6hgp75FQP3d",
        "outputId": "c19eedae-35b3-45b5-8848-5301e2d4e5a7"
      },
      "execution_count": null,
      "outputs": [
        {
          "output_type": "stream",
          "name": "stdout",
          "text": [
            "This content should be written and everything should go\n",
            "This content shoudl be appended in the end\n"
          ]
        },
        {
          "output_type": "execute_result",
          "data": {
            "text/plain": [
              "[None, None]"
            ]
          },
          "metadata": {},
          "execution_count": 47
        }
      ]
    },
    {
      "cell_type": "code",
      "source": [
        "## Python program to count the no of times a letter appears in a text file.\n",
        "letter = input(\"Enter the substring: \")\n",
        "count = 0\n",
        "with open('test1.txt', 'r') as f:\n",
        "  # content = f.readlines()\n",
        "  # for i in content:\n",
        "  #   count += i.count(letter)\n",
        "  # print(count)\n",
        "  content = f.read()\n",
        "  count = content.count(letter)\n",
        "  print(count)\n",
        "\n",
        "\n",
        "\n"
      ],
      "metadata": {
        "colab": {
          "base_uri": "https://localhost:8080/"
        },
        "id": "x_CIQp9XRg8z",
        "outputId": "b4b03ba7-72d1-40de-b8a4-65d65b347ade"
      },
      "execution_count": null,
      "outputs": [
        {
          "output_type": "stream",
          "name": "stdout",
          "text": [
            "Enter the substring: g\n",
            "30\n"
          ]
        }
      ]
    },
    {
      "cell_type": "code",
      "source": [
        "## Python program to print all the numbers present in a text file \n",
        "\n",
        "fname = input(\"Enter the file name: \")\n",
        "with open(fname, 'r') as f:\n",
        "  for line in f:\n",
        "    word_vec = line.split()\n",
        "    for word in word_vec:\n",
        "      for letter in word:\n",
        "        if(letter.isdigit()):\n",
        "          print(letter)"
      ],
      "metadata": {
        "colab": {
          "base_uri": "https://localhost:8080/"
        },
        "id": "SVmjZuHnX5eE",
        "outputId": "3c26a31b-da8b-4fe0-ea5d-e35f1b536ab5"
      },
      "execution_count": null,
      "outputs": [
        {
          "output_type": "stream",
          "name": "stdout",
          "text": [
            "Enter the file name: test1.txt\n",
            "1\n",
            "9\n",
            "9\n",
            "1\n"
          ]
        }
      ]
    },
    {
      "cell_type": "code",
      "source": [
        "## Python program to print the contents of File in reverse prder\n",
        "\n",
        "with open('test1.txt', 'r') as f:\n",
        "  content = f.readlines()\n",
        "  for line in reversed(content):\n",
        "    print(line.rstrip())\n"
      ],
      "metadata": {
        "id": "I0lhqtAfZqc-"
      },
      "execution_count": null,
      "outputs": []
    },
    {
      "cell_type": "code",
      "source": [
        "def tri_recursion(k):\n",
        "  if(k>0):\n",
        "    result = k+tri_recursion(k-1)\n",
        "    print(result)\n",
        "  else:\n",
        "    result = 0\n",
        "  return result\n",
        "\n",
        "print(\"\\n\\nRecursion Example Results\")\n",
        "tri_recursion(6)"
      ],
      "metadata": {
        "id": "J2p6DrrcN1jJ"
      },
      "execution_count": null,
      "outputs": []
    },
    {
      "cell_type": "code",
      "source": [
        "# Finding the factorial of a number using recursion.\n",
        "def factorial(n):\n",
        "  if n<0:\n",
        "    result = 'Not Defined'\n",
        "  elif n==0:\n",
        "    result = 1\n",
        "  else:\n",
        "    result = n*factorial(n-1)\n",
        "  return result\n",
        "\n",
        "factorial(5)"
      ],
      "metadata": {
        "id": "Haba6ErAhioW"
      },
      "execution_count": null,
      "outputs": []
    },
    {
      "cell_type": "code",
      "source": [
        "# Find the factorial of a number without recursion\n",
        "def fac(n):\n",
        "  while n<0:\n",
        "    return 'Not defined'\n",
        "  result = 1\n",
        "  while n>0:\n",
        "    result = result * n\n",
        "    n = n-1\n",
        "  return result\n",
        "\n",
        "fac(5)\n"
      ],
      "metadata": {
        "id": "B4iwJAmXlPSV"
      },
      "execution_count": null,
      "outputs": []
    },
    {
      "cell_type": "code",
      "source": [
        "## Python program to check if a number is even or odd using recursion\n",
        "def check_eo(n):\n",
        "  if n<2:\n",
        "    return (print(\"The no is Even\") if n%2==0 else print(\"The no is odd\"))\n",
        "  else:\n",
        "    return (check_eo(n-2))\n",
        "\n",
        "check_eo(7)  "
      ],
      "metadata": {
        "id": "sVxRmPoFuNEQ"
      },
      "execution_count": null,
      "outputs": []
    },
    {
      "cell_type": "code",
      "source": [
        "## Write a python program to check all the odd numbers within a range\n",
        "lower = int(input(\"Enter the lower range: \"))\n",
        "upper = int(input(\"Enter the upper range: \"))\n",
        "for i in range(lower,upper):\n",
        "  if i%2==1:\n",
        "    print(i)\n",
        "\n",
        "  \n"
      ],
      "metadata": {
        "id": "5p1o4yo9ycr_"
      },
      "execution_count": null,
      "outputs": []
    },
    {
      "cell_type": "code",
      "source": [
        "## Python progeam to check if a number is palindrome \n",
        "n = int(input(\"Enter No: \"))\n",
        "def check_pal(n):\n",
        "  temp = n \n",
        "  rev = 0\n",
        "  while n>0:   \n",
        "    dig_from_right = n%10\n",
        "    rev = rev*10+dig_from_right\n",
        "    n = n//10\n",
        "\n",
        "  if rev==temp:\n",
        "    print(\"Ther given no is a palindrome\")\n",
        "  else:\n",
        "    print(\"The given no is not a palindrome\")\n",
        "\n",
        "check_pal(n)"
      ],
      "metadata": {
        "id": "YiAf3rv547Qu"
      },
      "execution_count": null,
      "outputs": []
    },
    {
      "cell_type": "code",
      "source": [
        "## Write a python program to reverse a digit\n",
        "n = int(input(\"Enter the no: \"))\n",
        "\n",
        "def rev_digit(n):\n",
        "  temp = n\n",
        "  rev = 0 \n",
        "  while n>0:\n",
        "    dig = n%10\n",
        "    rev = rev*10+dig\n",
        "    n = n//10\n",
        "  return rev\n",
        "\n",
        "rev_digit(n)\n",
        "\n"
      ],
      "metadata": {
        "id": "SpJD7Ip_9rAz"
      },
      "execution_count": null,
      "outputs": []
    },
    {
      "cell_type": "code",
      "source": [
        "## Write a python program to find the sum of the digit of a number using recursion \n",
        "\n",
        "def sum_rec(n):\n",
        "  sum = 0\n",
        "  if n==0:\n",
        "    sum = 0\n",
        "    return sum\n",
        "  else:\n",
        "    dig = n%10\n",
        "    sum = dig + sum_rec(n//10)\n",
        "    return sum\n",
        "\n",
        "sum_rec(0)\n",
        "\n"
      ],
      "metadata": {
        "id": "mV46ZkFKDfQ_"
      },
      "execution_count": null,
      "outputs": []
    },
    {
      "cell_type": "code",
      "source": [
        "## Write a python program to count the no of digit in a number \n",
        "\n",
        "def count_digit(n):\n",
        "  count = 0 \n",
        "  while n>0:\n",
        "    count = count+1\n",
        "    n = n//10\n",
        "  return count\n",
        "\n",
        "count_digit(1234567890)"
      ],
      "metadata": {
        "id": "y8dZEXuRGkSF"
      },
      "execution_count": null,
      "outputs": []
    },
    {
      "cell_type": "code",
      "source": [
        "## Write a python program to find all the divisors of an integer\n",
        "n = int(input(\"Enter an integer: \"))\n",
        "for i in range(1,n+1):\n",
        "  if n%i==0:\n",
        "    print(i)"
      ],
      "metadata": {
        "id": "pd8FCuDtNBpg"
      },
      "execution_count": null,
      "outputs": []
    },
    {
      "cell_type": "code",
      "source": [
        "## Write a python program to find the smallest divisor of an integer excluding 1\n",
        "n = int(input(\"Enter an integer: \"))\n",
        "for i in range(2,n+1):\n",
        "  if n%i==0:\n",
        "    print(i)\n",
        "    break\n"
      ],
      "metadata": {
        "id": "E8x87A1qB4Sj"
      },
      "execution_count": null,
      "outputs": []
    },
    {
      "cell_type": "code",
      "source": [
        "## Write a python program to print binary equivalent of a number without recusrsion\n",
        "\n",
        "n = int(input(\"Enter an integer to be converted: \"))\n",
        "a = []\n",
        "while n>0:\n",
        "  dig = n%2\n",
        "  a.append(dig)\n",
        "  n = n//2\n",
        "ans = \"\".join(map(str,reversed(a)))\n",
        "print(ans)\n",
        "  \n"
      ],
      "metadata": {
        "id": "jxlJGBvbC0SE"
      },
      "execution_count": null,
      "outputs": []
    },
    {
      "cell_type": "code",
      "source": [
        "## Write a python program to print the binary equivalent of a number with recursion \n",
        "d = []\n",
        "def conv2bi(n):\n",
        "  if (n==0):\n",
        "    return d\n",
        "  dig = n%2\n",
        "  d.append(dig)\n",
        "  conv2bi(n//2)\n",
        "\n",
        "a=int(input(\"Enter a number: \"))\n",
        "conv2bi(a)\n",
        "d.reverse()\n",
        "print(\"Binary equivalent:\")\n",
        "for i in d:\n",
        "    print (i,end=\"\")\n"
      ],
      "metadata": {
        "id": "cBUR-2PiFoHT"
      },
      "execution_count": null,
      "outputs": []
    },
    {
      "cell_type": "code",
      "source": [
        "## Write a program to print the table of a number\n",
        "\n",
        "n= int(input(\"Enter the no: \"))\n",
        "for i in range(1,n+1):\n",
        "  for j in range(1,11):\n",
        "    print(i,' x ',j,' = ', i*j)\n",
        "  print(\" \")"
      ],
      "metadata": {
        "id": "2io-oqivKqfq"
      },
      "execution_count": null,
      "outputs": []
    },
    {
      "cell_type": "code",
      "source": [
        "## Write a python program to check if a date is valid and print the incremented date if it is \n",
        "\n",
        "date = input(\"Enter date: \")\n",
        "dd,mm,yy = map(int,date.split('/'))\n",
        "\n",
        "if(mm==1 or mm==3 or mm==5 or mm==7 or mm==8 or mm==10 or mm==12):\n",
        "    max1=31\n",
        "elif(mm==4 or mm==6 or mm==9 or mm==11):\n",
        "    max1=30\n",
        "elif(yy%4==0 and yy%100!=0 or yy%400==0):\n",
        "    max1=29\n",
        "else:\n",
        "    max1=28\n",
        "if(mm<1 or mm>12):\n",
        "    print(\"Date is invalid.\")\n",
        "elif(dd<1 or dd>max1):\n",
        "    print(\"Date is invalid.\")\n",
        "elif(dd==max1 and mm!=12):\n",
        "    dd=1\n",
        "    mm=mm+1\n",
        "    print(\"The incremented date is: \",dd,mm,yy)\n",
        "elif(dd==31 and mm==12):\n",
        "    dd=1\n",
        "    mm=1\n",
        "    yy=yy+1\n",
        "    print(\"The incremented date is: \",dd,mm,yy)\n",
        "else:\n",
        "    dd=dd+1\n",
        "    print(\"The incremented date is: \",dd,mm,yy)\n",
        "\n"
      ],
      "metadata": {
        "id": "vJ6l_E1VPm15"
      },
      "execution_count": null,
      "outputs": []
    },
    {
      "cell_type": "code",
      "source": [
        "## Write a python Program to Check Whether a given Year is a Leap Year\n",
        "\n",
        "year = int(input(\"Enter year to be checked: \"))\n",
        "if(year%4==0 and year%100!=0 or year%400==0):\n",
        "  print(\"The given year is a leap year\")\n",
        "else:\n",
        "  print(\"No chance\")"
      ],
      "metadata": {
        "id": "BG6L4djXTI4t"
      },
      "execution_count": null,
      "outputs": []
    },
    {
      "cell_type": "code",
      "source": [
        "## Write a python program to read a number and compute n+nn+nnn\n",
        "n = int(input(\"Enter no: \"))\n",
        "print(n+int(2*str(n))+int(3*str(n)))"
      ],
      "metadata": {
        "id": "7jh2idcUT0yB"
      },
      "execution_count": null,
      "outputs": []
    },
    {
      "cell_type": "code",
      "source": [
        "## Write a python program to find all the numbers within a given range\n",
        "n = int(input(\"Enter no: \"))\n",
        "\n",
        "for i in range(1,n):\n",
        "  if i==2:\n",
        "    print(i)\n",
        "  else:\n",
        "    for j in range(2,i):\n",
        "      if i%j==0:\n",
        "        break\n",
        "      else:\n",
        "        print(i)\n",
        "        break\n",
        "# Need to find, what is the issue with this program.\n"
      ],
      "metadata": {
        "colab": {
          "base_uri": "https://localhost:8080/"
        },
        "id": "x2YzynCoXdXB",
        "outputId": "f5517b74-4c1d-411b-ca6a-5d5f84a5ea2e"
      },
      "execution_count": null,
      "outputs": [
        {
          "output_type": "stream",
          "name": "stdout",
          "text": [
            "Enter no: 11\n",
            "2\n",
            "3\n",
            "5\n",
            "7\n",
            "9\n"
          ]
        }
      ]
    },
    {
      "cell_type": "code",
      "source": [
        "## Write a python program to check the prime number \n",
        "n = int(input(\"Enter No: \"))\n",
        "if n<2:\n",
        "  print(\"Not a Prime Number\")\n",
        "for i in range(2,n+1):\n",
        "  if n%i==0 and n!=2:\n",
        "    print(\"Not a Prime Number\")\n",
        "    break\n",
        "  else:\n",
        "    print(\"Given number is a prime Number\")\n",
        "    break\n",
        "\n"
      ],
      "metadata": {
        "colab": {
          "base_uri": "https://localhost:8080/"
        },
        "id": "6ukQe-N6TlSA",
        "outputId": "901c998e-0260-4437-8bb7-9da21a2ea370"
      },
      "execution_count": null,
      "outputs": [
        {
          "output_type": "stream",
          "name": "stdout",
          "text": [
            "Enter No: 9\n",
            "Given number is a prime Number\n"
          ]
        }
      ]
    },
    {
      "cell_type": "code",
      "source": [
        "## Write a python program to check prime no using recursion\n",
        "## Have not understood this, need to understand clearly\n",
        "def check(n, div = None):\n",
        "    if div is None:\n",
        "        div = n - 1\n",
        "    while div >= 2:\n",
        "        if n % div == 0:\n",
        "            print(\"Number not prime\")\n",
        "            return False\n",
        "        else:\n",
        "            return check(n, div-1)\n",
        "    else:\n",
        "        print(\"Number is prime\")\n",
        "        return 'True'\n",
        "n=int(input(\"Enter number: \"))\n",
        "check(n)\n",
        "\n"
      ],
      "metadata": {
        "colab": {
          "base_uri": "https://localhost:8080/",
          "height": 70
        },
        "id": "a8m9ZEcbWffG",
        "outputId": "eaecb848-b1cd-41ac-c5a0-05420e44e3c4"
      },
      "execution_count": null,
      "outputs": [
        {
          "output_type": "stream",
          "name": "stdout",
          "text": [
            "Enter number: 7\n",
            "Number is prime\n"
          ]
        },
        {
          "output_type": "execute_result",
          "data": {
            "text/plain": [
              "'True'"
            ],
            "application/vnd.google.colaboratory.intrinsic+json": {
              "type": "string"
            }
          },
          "metadata": {},
          "execution_count": 51
        }
      ]
    },
    {
      "cell_type": "code",
      "source": [
        "## Write a Python Program to Check Whether a Given Number is Perfect Number\n",
        "## Perfect no is a no which is a perfect sum of its divisor excluding the no itself\n",
        "\n",
        "n = int(input(\"Enter No: \"))\n",
        "div = []\n",
        "for i in range(1,n):\n",
        "  if n%i==0:\n",
        "    div.append(i)\n",
        "if sum(div)==n:\n",
        "  print(\"Given no is a perfect no\")\n",
        "else:\n",
        "  print(\"Not a perfect no\")\n",
        "\n",
        "      \n",
        "\n"
      ],
      "metadata": {
        "colab": {
          "base_uri": "https://localhost:8080/"
        },
        "id": "YEUfqCNon-db",
        "outputId": "4725dd67-c13f-4379-c7c1-fbd3f34b8f48"
      },
      "execution_count": null,
      "outputs": [
        {
          "output_type": "stream",
          "name": "stdout",
          "text": [
            "Enter No: 496\n",
            "Given no is a perfect no\n"
          ]
        }
      ]
    },
    {
      "cell_type": "code",
      "source": [
        "## Write a python program to check the armstrong number\n",
        "n = int(input(\"Enter No: \"))\n",
        "sum = 0\n",
        "temp = n\n",
        "while n>0:\n",
        "  d = n%10\n",
        "  sum = sum + d**3\n",
        "  n = n//10\n",
        "if sum==temp:\n",
        "  print(\"Yes\")\n",
        "else:\n",
        "  print(\"No\")\n"
      ],
      "metadata": {
        "id": "HeUgLDscvrht",
        "colab": {
          "base_uri": "https://localhost:8080/"
        },
        "outputId": "58bfd014-6a31-46df-ed6c-f00382260f65"
      },
      "execution_count": null,
      "outputs": [
        {
          "output_type": "stream",
          "name": "stdout",
          "text": [
            "Enter No: 0\n",
            "Yes\n"
          ]
        }
      ]
    },
    {
      "cell_type": "code",
      "source": [
        "## Write a python program to find the sume of first n natural numbers in python\n",
        "n = int(input(\"Enter No: \"))\n",
        "sum = 0\n",
        "while n>0:\n",
        "  sum = sum+n\n",
        "  n = n-1\n",
        "print(sum)"
      ],
      "metadata": {
        "colab": {
          "base_uri": "https://localhost:8080/"
        },
        "id": "kkrXFBPfqTY3",
        "outputId": "ac3d6d8d-447b-45bb-a8ed-ddf445ebe625"
      },
      "execution_count": null,
      "outputs": [
        {
          "output_type": "stream",
          "name": "stdout",
          "text": [
            "Enter No: 167\n",
            "14028\n"
          ]
        }
      ]
    },
    {
      "cell_type": "code",
      "source": [
        "## Write a python program to check if a nummber is a strong number \n",
        "import math\n",
        "n = int(input(\"Enter No: \"))\n",
        "sum = 0\n",
        "temp = n\n",
        "while n>0:\n",
        "  d = n%10\n",
        "  sum = sum+ math.factorial(d)\n",
        "  n = n//10\n",
        "if sum==temp:\n",
        "  print('yes')\n",
        "else:\n",
        "  print('No')\n"
      ],
      "metadata": {
        "colab": {
          "base_uri": "https://localhost:8080/"
        },
        "id": "9-wX_ZnqrK9H",
        "outputId": "ab8dee42-5556-4e7c-bdca-06560d7ee928"
      },
      "execution_count": null,
      "outputs": [
        {
          "output_type": "stream",
          "name": "stdout",
          "text": [
            "Enter No: 234\n",
            "No\n"
          ]
        }
      ]
    },
    {
      "cell_type": "code",
      "source": [
        "## Could be asked that do not use the math function to find the factorial\n",
        "# hence need to find the factorial \n",
        "\n",
        "def fac_n(n):\n",
        "  answer = 1\n",
        "  for i in range(1,n+1):\n",
        "    answer  = answer*i\n",
        "  return answer\n",
        "\n",
        "n = int(input(\"Enter No: \"))\n",
        "sum = 0\n",
        "temp = n\n",
        "while n>0:\n",
        "  d = n%10\n",
        "  sum = sum+ fac_n(d)\n",
        "  n = n//10\n",
        "if sum==temp:\n",
        "  print('yes')\n",
        "else:\n",
        "  print('No')\n",
        "\n",
        "\n",
        "\n",
        "\n"
      ],
      "metadata": {
        "colab": {
          "base_uri": "https://localhost:8080/"
        },
        "id": "W7rNJ0E6sRLF",
        "outputId": "ea6c8435-afbe-42a5-a198-b41456585728"
      },
      "execution_count": null,
      "outputs": [
        {
          "output_type": "stream",
          "name": "stdout",
          "text": [
            "Enter No: 234\n",
            "No\n"
          ]
        }
      ]
    },
    {
      "cell_type": "code",
      "source": [
        "## Write a porgram to print numbers in a range without using the loops \n",
        "## Important prog\n",
        "def num_range(n):\n",
        "  if n>0:\n",
        "    num_range(n-1)\n",
        "    print(n, end=\" \")\n",
        "    \n",
        "n = int(input(\"Enter the number: \"))\n",
        "num_range(n)"
      ],
      "metadata": {
        "colab": {
          "base_uri": "https://localhost:8080/"
        },
        "id": "u4h0DPN4uXfR",
        "outputId": "d712a8a9-8fb5-437d-f7ef-31832935b3a2"
      },
      "execution_count": null,
      "outputs": [
        {
          "output_type": "stream",
          "name": "stdout",
          "text": [
            "Enter the number: 9\n",
            "1 2 3 4 5 6 7 8 9 "
          ]
        }
      ]
    },
    {
      "cell_type": "code",
      "source": [
        "## Write a python program to print the natural number summation pattern\n",
        "\n",
        "n = int(input(\"Enter No: \"))\n",
        "for j in range(1,n+1):\n",
        "  a=[]\n",
        "  sum=0\n",
        "  for i in range(1,j+1):\n",
        "    print(i,sep=\" \",end=\" \")\n",
        "    if (i<j):\n",
        "      print('+', sep=\" \", end= \" \")\n",
        "    a.append(i)\n",
        "    \n",
        "  for k in a:      \n",
        "    sum = sum+k\n",
        "  print(\"=\", sum)\n",
        "\n",
        "print()\n"
      ],
      "metadata": {
        "colab": {
          "base_uri": "https://localhost:8080/"
        },
        "id": "G1RJR3Knvrws",
        "outputId": "76830016-2836-4fc0-dc75-8611ceb650f5"
      },
      "execution_count": null,
      "outputs": [
        {
          "output_type": "stream",
          "name": "stdout",
          "text": [
            "Enter No: 5\n",
            "1 = 1\n",
            "1 + 2 = 3\n",
            "1 + 2 + 3 = 6\n",
            "1 + 2 + 3 + 4 = 10\n",
            "1 + 2 + 3 + 4 + 5 = 15\n",
            "\n"
          ]
        }
      ]
    },
    {
      "cell_type": "code",
      "source": [
        "n = int(input(\"Enter No: \"))\n",
        "for j in range(1,n+1):\n",
        "  a=[]\n",
        "  sum=0\n",
        "  for i in range(1,j+1):\n",
        "    print(i,sep=\" \",end=\" \")\n",
        "    if (i<j):\n",
        "      print('+', sep=\" \", end= \" \")\n",
        "    a.append(i)\n",
        "    \n",
        "  for k in a:      \n",
        "    sum = sum+k\n",
        "  print(\"=\", sum)\n",
        "\n",
        "print()"
      ],
      "metadata": {
        "id": "hDSiSTSI0cLP"
      },
      "execution_count": null,
      "outputs": []
    },
    {
      "cell_type": "code",
      "source": [
        "## Python program to find the prime factors of a number \n",
        "def check_prime(n):\n",
        "  if n==2:\n",
        "    return True\n",
        "  elif n<2:\n",
        "    return False\n",
        "  for i in range(2,n):\n",
        "    if n%i==0:\n",
        "      return False\n",
        "    return True\n",
        "\n",
        "n = int(input(\"Enter No: \"))\n",
        "\n",
        "factors = []\n",
        "for i in range(2,n+1):\n",
        "  if n%i ==0:\n",
        "    factors.append(i)\n",
        "for j in factors:\n",
        "  if check_prime(j) is True:\n",
        "    print(j)\n",
        "\n",
        "## Need to fix the prime number program , the complete program will be automatically fixed\n"
      ],
      "metadata": {
        "colab": {
          "base_uri": "https://localhost:8080/"
        },
        "id": "qzkTfkMG3yMV",
        "outputId": "c1576cee-f866-4aec-d6b1-94a8d8e32c86"
      },
      "execution_count": null,
      "outputs": [
        {
          "output_type": "stream",
          "name": "stdout",
          "text": [
            "Enter No: 9\n",
            "3\n",
            "9\n"
          ]
        }
      ]
    },
    {
      "cell_type": "code",
      "source": [
        "## Python program to compute the prime factors of an integer\n",
        "n = int(input(\"Enter an integer\"))\n",
        "print(\"Factors are\")\n",
        "i=1\n",
        "while(i<=n):\n",
        "  k=0\n",
        "  if (n%i==0):\n",
        "    j=1\n",
        "    while (j<=i):\n",
        "      if (i%j==0):\n",
        "        k=k+1\n",
        "      j = j+1\n",
        "    if(k==2):\n",
        "      print(i)\n",
        "  i = i+1\n",
        "\n",
        "\n",
        "## Not a good approach"
      ],
      "metadata": {
        "colab": {
          "base_uri": "https://localhost:8080/"
        },
        "id": "cxqJ5QD06qm5",
        "outputId": "9d453713-2102-45e2-91c7-7f23a2bc8848"
      },
      "execution_count": null,
      "outputs": [
        {
          "output_type": "stream",
          "name": "stdout",
          "text": [
            "Enter an integer25\n",
            "Factors are\n",
            "5\n"
          ]
        }
      ]
    },
    {
      "cell_type": "code",
      "source": [
        "# Write a python program to check if 2 numbers are amicable or not\n",
        "def sum_fac(n):\n",
        "  sum = 0\n",
        "  for i in range(1,n):\n",
        "    if (n%i==0):\n",
        "      sum+=i\n",
        "  return sum\n",
        "\n",
        "x = int(input(\"Enter Number 1: \"))\n",
        "y = int(input(\"Enter Number 2: \"))\n",
        "\n",
        "if sum_fac(x)==y and sum_fac(y)==x:\n",
        "  print(\"Yes!Amicable\")\n",
        "else:\n",
        "  print(\"Not Amicable\")\n",
        "\n",
        "\n",
        "\n",
        "\n"
      ],
      "metadata": {
        "colab": {
          "base_uri": "https://localhost:8080/"
        },
        "id": "cfU8wrN29ZLX",
        "outputId": "ce7e943f-d3bc-446b-8c29-8306db2747cf"
      },
      "execution_count": null,
      "outputs": [
        {
          "output_type": "stream",
          "name": "stdout",
          "text": [
            "Enter Number 1: 45\n",
            "Enter Number 2: 54\n",
            "Not Amicable\n"
          ]
        }
      ]
    },
    {
      "cell_type": "code",
      "source": [
        "## Write a python program to find if a number is a perfect square\n",
        "## Meaning Perfect square\n",
        "\n",
        "def check_sqrt(n):\n",
        "  if (math.isqrt(n)**2) == n:\n",
        "    return True\n",
        "  else:\n",
        "    return False\n",
        "\n",
        "n = int(input(\"Enter No \"))\n",
        "\n",
        "check_sqrt(n)\n",
        "\n"
      ],
      "metadata": {
        "colab": {
          "base_uri": "https://localhost:8080/"
        },
        "id": "RC2q81f0_X6t",
        "outputId": "8d20efb7-9bfb-4f57-cb01-8a9cbb412391"
      },
      "execution_count": null,
      "outputs": [
        {
          "name": "stdout",
          "output_type": "stream",
          "text": [
            "Enter No 36\n"
          ]
        },
        {
          "output_type": "execute_result",
          "data": {
            "text/plain": [
              "True"
            ]
          },
          "metadata": {},
          "execution_count": 65
        }
      ]
    },
    {
      "cell_type": "code",
      "source": [
        "## Write a python program to find whethe a number is a power of two \n",
        "def is_power_of_two(n):\n",
        "  \"\"\"Return True id n is a power of two.\"\"\"\n",
        "  if n<=0:\n",
        "    return False\n",
        "  else:\n",
        "    return n&(n-1) == 0\n",
        "\n",
        "n = int(input(\"Enter No: \"))\n",
        "\n",
        "if is_power_of_two(n):\n",
        "  print('{} is a power of two.'.format(n))\n",
        "else:\n",
        "  print('{} is not a power of two.'.format(n))\n",
        "\n"
      ],
      "metadata": {
        "colab": {
          "base_uri": "https://localhost:8080/"
        },
        "id": "IpJt9-Y-B57L",
        "outputId": "e90b8a54-07e4-49c7-8c95-3d76cf80b89e"
      },
      "execution_count": null,
      "outputs": [
        {
          "output_type": "stream",
          "name": "stdout",
          "text": [
            "Enter No: 0\n",
            "0 is not a power of two.\n"
          ]
        }
      ]
    },
    {
      "cell_type": "code",
      "source": [],
      "metadata": {
        "colab": {
          "base_uri": "https://localhost:8080/"
        },
        "id": "ABtX-qpxG2Hx",
        "outputId": "11c1f4ce-63b5-4849-e309-9348e5c61e1e"
      },
      "execution_count": null,
      "outputs": [
        {
          "output_type": "execute_result",
          "data": {
            "text/plain": [
              "4"
            ]
          },
          "metadata": {},
          "execution_count": 79
        }
      ]
    },
    {
      "cell_type": "code",
      "source": [
        "## Write a python program to find all perfect squares in a the given range\n",
        "l=int(input(\"Enter lower range: \"))\n",
        "u=int(input(\"Enter upper range: \"))\n",
        "a=[]\n",
        "a=[x for x in range(l,u+1) if (int(x**0.5))**2==x ]\n",
        "print(a)\n"
      ],
      "metadata": {
        "colab": {
          "base_uri": "https://localhost:8080/"
        },
        "id": "2PAgVXziFdl4",
        "outputId": "fa3e54ed-30a7-4cd2-80e2-dc135fe502ea"
      },
      "execution_count": null,
      "outputs": [
        {
          "output_type": "stream",
          "name": "stdout",
          "text": [
            "Enter lower range: 4\n",
            "Enter upper range: 99\n",
            "[4, 9, 16, 25, 36, 49, 64, 81]\n"
          ]
        }
      ]
    },
    {
      "cell_type": "code",
      "source": [
        "# Python Program to Print All Possible Combinations of Three Digits\n",
        "a=int(input(\"Enter first number:\"))\n",
        "b=int(input(\"Enter second number:\"))\n",
        "c=int(input(\"Enter third number:\"))\n",
        "d=[]\n",
        "d.append(a)\n",
        "d.append(b)\n",
        "d.append(c)\n",
        "for i in range(0,3):\n",
        "    for j in range(0,3):\n",
        "        for k in range(0,3):\n",
        "            if(i!=j&j!=k&k!=i):\n",
        "                print(d[i],d[j],d[k])"
      ],
      "metadata": {
        "id": "RPRyF2zwNMk4",
        "outputId": "1477cab3-ce4d-4ff5-8263-bb1a422023c5",
        "colab": {
          "base_uri": "https://localhost:8080/"
        }
      },
      "execution_count": null,
      "outputs": [
        {
          "output_type": "stream",
          "name": "stdout",
          "text": [
            "Enter first number:1\n",
            "Enter second number:2\n",
            "Enter third number:3\n",
            "1 2 3\n",
            "1 3 2\n",
            "2 1 3\n",
            "2 3 1\n",
            "3 1 2\n",
            "3 2 1\n"
          ]
        }
      ]
    }
  ]
}